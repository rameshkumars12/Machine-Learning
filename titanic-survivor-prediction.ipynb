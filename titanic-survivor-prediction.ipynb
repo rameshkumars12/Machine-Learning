{
 "cells": [
  {
   "cell_type": "markdown",
   "id": "dac07aef",
   "metadata": {
    "_cell_guid": "b1076dfc-b9ad-4769-8c92-a6c4dae69d19",
    "_uuid": "8f2839f25d086af736a60e9eeb907d3b93b6e0e5",
    "papermill": {
     "duration": 0.024195,
     "end_time": "2021-08-22T14:31:27.612043",
     "exception": false,
     "start_time": "2021-08-22T14:31:27.587848",
     "status": "completed"
    },
    "tags": []
   },
   "source": [
    "### Importing Libraries"
   ]
  },
  {
   "cell_type": "code",
   "execution_count": 1,
   "id": "fa5d404b",
   "metadata": {
    "execution": {
     "iopub.execute_input": "2021-08-22T14:31:27.662275Z",
     "iopub.status.busy": "2021-08-22T14:31:27.661338Z",
     "iopub.status.idle": "2021-08-22T14:31:28.722556Z",
     "shell.execute_reply": "2021-08-22T14:31:28.721847Z",
     "shell.execute_reply.started": "2021-08-22T14:24:05.415316Z"
    },
    "papermill": {
     "duration": 1.086856,
     "end_time": "2021-08-22T14:31:28.722701",
     "exception": false,
     "start_time": "2021-08-22T14:31:27.635845",
     "status": "completed"
    },
    "tags": []
   },
   "outputs": [],
   "source": [
    "import pandas as pd\n",
    "import matplotlib.pyplot as plt\n",
    "import seaborn as sns\n",
    "import numpy as np\n",
    "from scipy import stats\n",
    "\n",
    "from sklearn.preprocessing import LabelEncoder\n",
    "from sklearn.linear_model import LinearRegression\n",
    "from sklearn.metrics import accuracy_score\n",
    "from sklearn.model_selection import train_test_split\n",
    "\n",
    "%matplotlib inline \n",
    "plt.rcParams['figure.figsize']=(8,5)"
   ]
  },
  {
   "cell_type": "markdown",
   "id": "a0a90d62",
   "metadata": {
    "papermill": {
     "duration": 0.030674,
     "end_time": "2021-08-22T14:31:28.787137",
     "exception": false,
     "start_time": "2021-08-22T14:31:28.756463",
     "status": "completed"
    },
    "tags": []
   },
   "source": [
    "### Analyzing the Dataset"
   ]
  },
  {
   "cell_type": "code",
   "execution_count": 2,
   "id": "c5e9935f",
   "metadata": {
    "execution": {
     "iopub.execute_input": "2021-08-22T14:31:28.841748Z",
     "iopub.status.busy": "2021-08-22T14:31:28.841129Z",
     "iopub.status.idle": "2021-08-22T14:31:28.876782Z",
     "shell.execute_reply": "2021-08-22T14:31:28.877193Z",
     "shell.execute_reply.started": "2021-08-22T14:24:06.656435Z"
    },
    "papermill": {
     "duration": 0.065298,
     "end_time": "2021-08-22T14:31:28.877359",
     "exception": false,
     "start_time": "2021-08-22T14:31:28.812061",
     "status": "completed"
    },
    "tags": []
   },
   "outputs": [
    {
     "data": {
      "text/html": [
       "<div>\n",
       "<style scoped>\n",
       "    .dataframe tbody tr th:only-of-type {\n",
       "        vertical-align: middle;\n",
       "    }\n",
       "\n",
       "    .dataframe tbody tr th {\n",
       "        vertical-align: top;\n",
       "    }\n",
       "\n",
       "    .dataframe thead th {\n",
       "        text-align: right;\n",
       "    }\n",
       "</style>\n",
       "<table border=\"1\" class=\"dataframe\">\n",
       "  <thead>\n",
       "    <tr style=\"text-align: right;\">\n",
       "      <th></th>\n",
       "      <th>PassengerId</th>\n",
       "      <th>Survived</th>\n",
       "      <th>Pclass</th>\n",
       "      <th>Name</th>\n",
       "      <th>Sex</th>\n",
       "      <th>Age</th>\n",
       "      <th>SibSp</th>\n",
       "      <th>Parch</th>\n",
       "      <th>Ticket</th>\n",
       "      <th>Fare</th>\n",
       "      <th>Cabin</th>\n",
       "      <th>Embarked</th>\n",
       "    </tr>\n",
       "  </thead>\n",
       "  <tbody>\n",
       "    <tr>\n",
       "      <th>0</th>\n",
       "      <td>1</td>\n",
       "      <td>0</td>\n",
       "      <td>3</td>\n",
       "      <td>Braund, Mr. Owen Harris</td>\n",
       "      <td>male</td>\n",
       "      <td>22.0</td>\n",
       "      <td>1</td>\n",
       "      <td>0</td>\n",
       "      <td>A/5 21171</td>\n",
       "      <td>7.2500</td>\n",
       "      <td>NaN</td>\n",
       "      <td>S</td>\n",
       "    </tr>\n",
       "    <tr>\n",
       "      <th>1</th>\n",
       "      <td>2</td>\n",
       "      <td>1</td>\n",
       "      <td>1</td>\n",
       "      <td>Cumings, Mrs. John Bradley (Florence Briggs Th...</td>\n",
       "      <td>female</td>\n",
       "      <td>38.0</td>\n",
       "      <td>1</td>\n",
       "      <td>0</td>\n",
       "      <td>PC 17599</td>\n",
       "      <td>71.2833</td>\n",
       "      <td>C85</td>\n",
       "      <td>C</td>\n",
       "    </tr>\n",
       "    <tr>\n",
       "      <th>2</th>\n",
       "      <td>3</td>\n",
       "      <td>1</td>\n",
       "      <td>3</td>\n",
       "      <td>Heikkinen, Miss. Laina</td>\n",
       "      <td>female</td>\n",
       "      <td>26.0</td>\n",
       "      <td>0</td>\n",
       "      <td>0</td>\n",
       "      <td>STON/O2. 3101282</td>\n",
       "      <td>7.9250</td>\n",
       "      <td>NaN</td>\n",
       "      <td>S</td>\n",
       "    </tr>\n",
       "    <tr>\n",
       "      <th>3</th>\n",
       "      <td>4</td>\n",
       "      <td>1</td>\n",
       "      <td>1</td>\n",
       "      <td>Futrelle, Mrs. Jacques Heath (Lily May Peel)</td>\n",
       "      <td>female</td>\n",
       "      <td>35.0</td>\n",
       "      <td>1</td>\n",
       "      <td>0</td>\n",
       "      <td>113803</td>\n",
       "      <td>53.1000</td>\n",
       "      <td>C123</td>\n",
       "      <td>S</td>\n",
       "    </tr>\n",
       "    <tr>\n",
       "      <th>4</th>\n",
       "      <td>5</td>\n",
       "      <td>0</td>\n",
       "      <td>3</td>\n",
       "      <td>Allen, Mr. William Henry</td>\n",
       "      <td>male</td>\n",
       "      <td>35.0</td>\n",
       "      <td>0</td>\n",
       "      <td>0</td>\n",
       "      <td>373450</td>\n",
       "      <td>8.0500</td>\n",
       "      <td>NaN</td>\n",
       "      <td>S</td>\n",
       "    </tr>\n",
       "  </tbody>\n",
       "</table>\n",
       "</div>"
      ],
      "text/plain": [
       "   PassengerId  Survived  Pclass  \\\n",
       "0            1         0       3   \n",
       "1            2         1       1   \n",
       "2            3         1       3   \n",
       "3            4         1       1   \n",
       "4            5         0       3   \n",
       "\n",
       "                                                Name     Sex   Age  SibSp  \\\n",
       "0                            Braund, Mr. Owen Harris    male  22.0      1   \n",
       "1  Cumings, Mrs. John Bradley (Florence Briggs Th...  female  38.0      1   \n",
       "2                             Heikkinen, Miss. Laina  female  26.0      0   \n",
       "3       Futrelle, Mrs. Jacques Heath (Lily May Peel)  female  35.0      1   \n",
       "4                           Allen, Mr. William Henry    male  35.0      0   \n",
       "\n",
       "   Parch            Ticket     Fare Cabin Embarked  \n",
       "0      0         A/5 21171   7.2500   NaN        S  \n",
       "1      0          PC 17599  71.2833   C85        C  \n",
       "2      0  STON/O2. 3101282   7.9250   NaN        S  \n",
       "3      0            113803  53.1000  C123        S  \n",
       "4      0            373450   8.0500   NaN        S  "
      ]
     },
     "execution_count": 2,
     "metadata": {},
     "output_type": "execute_result"
    }
   ],
   "source": [
    "df = pd.read_csv('../input/titanic/train.csv')\n",
    "df.head()"
   ]
  },
  {
   "cell_type": "code",
   "execution_count": 3,
   "id": "14d3c20e",
   "metadata": {
    "execution": {
     "iopub.execute_input": "2021-08-22T14:31:28.926742Z",
     "iopub.status.busy": "2021-08-22T14:31:28.926245Z",
     "iopub.status.idle": "2021-08-22T14:31:28.931106Z",
     "shell.execute_reply": "2021-08-22T14:31:28.930700Z",
     "shell.execute_reply.started": "2021-08-22T14:24:06.702772Z"
    },
    "papermill": {
     "duration": 0.030196,
     "end_time": "2021-08-22T14:31:28.931221",
     "exception": false,
     "start_time": "2021-08-22T14:31:28.901025",
     "status": "completed"
    },
    "tags": []
   },
   "outputs": [
    {
     "name": "stdout",
     "output_type": "stream",
     "text": [
      "(891, 12)\n"
     ]
    }
   ],
   "source": [
    "print(df.shape)"
   ]
  },
  {
   "cell_type": "markdown",
   "id": "f376b558",
   "metadata": {
    "papermill": {
     "duration": 0.032292,
     "end_time": "2021-08-22T14:31:28.987624",
     "exception": false,
     "start_time": "2021-08-22T14:31:28.955332",
     "status": "completed"
    },
    "tags": []
   },
   "source": [
    "Our target variable is Survived\n"
   ]
  },
  {
   "cell_type": "code",
   "execution_count": 4,
   "id": "1cd7bdb3",
   "metadata": {
    "execution": {
     "iopub.execute_input": "2021-08-22T14:31:29.055694Z",
     "iopub.status.busy": "2021-08-22T14:31:29.055125Z",
     "iopub.status.idle": "2021-08-22T14:31:29.059814Z",
     "shell.execute_reply": "2021-08-22T14:31:29.060188Z",
     "shell.execute_reply.started": "2021-08-22T14:24:06.709719Z"
    },
    "papermill": {
     "duration": 0.0475,
     "end_time": "2021-08-22T14:31:29.060346",
     "exception": false,
     "start_time": "2021-08-22T14:31:29.012846",
     "status": "completed"
    },
    "tags": []
   },
   "outputs": [
    {
     "name": "stdout",
     "output_type": "stream",
     "text": [
      "<class 'pandas.core.frame.DataFrame'>\n",
      "RangeIndex: 891 entries, 0 to 890\n",
      "Data columns (total 12 columns):\n",
      " #   Column       Non-Null Count  Dtype  \n",
      "---  ------       --------------  -----  \n",
      " 0   PassengerId  891 non-null    int64  \n",
      " 1   Survived     891 non-null    int64  \n",
      " 2   Pclass       891 non-null    int64  \n",
      " 3   Name         891 non-null    object \n",
      " 4   Sex          891 non-null    object \n",
      " 5   Age          714 non-null    float64\n",
      " 6   SibSp        891 non-null    int64  \n",
      " 7   Parch        891 non-null    int64  \n",
      " 8   Ticket       891 non-null    object \n",
      " 9   Fare         891 non-null    float64\n",
      " 10  Cabin        204 non-null    object \n",
      " 11  Embarked     889 non-null    object \n",
      "dtypes: float64(2), int64(5), object(5)\n",
      "memory usage: 83.7+ KB\n"
     ]
    }
   ],
   "source": [
    "df.info()"
   ]
  },
  {
   "cell_type": "markdown",
   "id": "5eee756e",
   "metadata": {
    "execution": {
     "iopub.execute_input": "2021-08-22T09:53:54.198466Z",
     "iopub.status.busy": "2021-08-22T09:53:54.198057Z",
     "iopub.status.idle": "2021-08-22T09:53:54.205023Z",
     "shell.execute_reply": "2021-08-22T09:53:54.203609Z",
     "shell.execute_reply.started": "2021-08-22T09:53:54.19843Z"
    },
    "papermill": {
     "duration": 0.024011,
     "end_time": "2021-08-22T14:31:29.108573",
     "exception": false,
     "start_time": "2021-08-22T14:31:29.084562",
     "status": "completed"
    },
    "tags": []
   },
   "source": [
    "Need to convert datatypes accordingly"
   ]
  },
  {
   "cell_type": "code",
   "execution_count": 5,
   "id": "0a38b44f",
   "metadata": {
    "execution": {
     "iopub.execute_input": "2021-08-22T14:31:29.161837Z",
     "iopub.status.busy": "2021-08-22T14:31:29.161330Z",
     "iopub.status.idle": "2021-08-22T14:31:29.452989Z",
     "shell.execute_reply": "2021-08-22T14:31:29.452181Z",
     "shell.execute_reply.started": "2021-08-22T14:24:06.739654Z"
    },
    "papermill": {
     "duration": 0.320737,
     "end_time": "2021-08-22T14:31:29.453122",
     "exception": false,
     "start_time": "2021-08-22T14:31:29.132385",
     "status": "completed"
    },
    "tags": []
   },
   "outputs": [
    {
     "data": {
      "image/png": "[encoded data removed]",
      "text/plain": [
       "<Figure size 576x360 with 1 Axes>"
      ]
     },
     "metadata": {
      "needs_background": "light"
     },
     "output_type": "display_data"
    }
   ],
   "source": [
    "sns.heatmap(df.isnull(), cbar = False)\n",
    "plt.show()"
   ]
  },
  {
   "cell_type": "markdown",
   "id": "4afd543e",
   "metadata": {
    "papermill": {
     "duration": 0.024313,
     "end_time": "2021-08-22T14:31:29.502280",
     "exception": false,
     "start_time": "2021-08-22T14:31:29.477967",
     "status": "completed"
    },
    "tags": []
   },
   "source": [
    "Dropping the insignificant variables\n"
   ]
  },
  {
   "cell_type": "code",
   "execution_count": 6,
   "id": "da696385",
   "metadata": {
    "execution": {
     "iopub.execute_input": "2021-08-22T14:31:29.565790Z",
     "iopub.status.busy": "2021-08-22T14:31:29.558891Z",
     "iopub.status.idle": "2021-08-22T14:31:29.569780Z",
     "shell.execute_reply": "2021-08-22T14:31:29.569303Z",
     "shell.execute_reply.started": "2021-08-22T14:24:07.101631Z"
    },
    "papermill": {
     "duration": 0.04146,
     "end_time": "2021-08-22T14:31:29.569898",
     "exception": false,
     "start_time": "2021-08-22T14:31:29.528438",
     "status": "completed"
    },
    "tags": []
   },
   "outputs": [
    {
     "data": {
      "text/html": [
       "<div>\n",
       "<style scoped>\n",
       "    .dataframe tbody tr th:only-of-type {\n",
       "        vertical-align: middle;\n",
       "    }\n",
       "\n",
       "    .dataframe tbody tr th {\n",
       "        vertical-align: top;\n",
       "    }\n",
       "\n",
       "    .dataframe thead th {\n",
       "        text-align: right;\n",
       "    }\n",
       "</style>\n",
       "<table border=\"1\" class=\"dataframe\">\n",
       "  <thead>\n",
       "    <tr style=\"text-align: right;\">\n",
       "      <th></th>\n",
       "      <th>Survived</th>\n",
       "      <th>Pclass</th>\n",
       "      <th>Sex</th>\n",
       "      <th>Age</th>\n",
       "      <th>SibSp</th>\n",
       "      <th>Parch</th>\n",
       "      <th>Fare</th>\n",
       "      <th>Embarked</th>\n",
       "    </tr>\n",
       "  </thead>\n",
       "  <tbody>\n",
       "    <tr>\n",
       "      <th>0</th>\n",
       "      <td>0</td>\n",
       "      <td>3</td>\n",
       "      <td>male</td>\n",
       "      <td>22.0</td>\n",
       "      <td>1</td>\n",
       "      <td>0</td>\n",
       "      <td>7.2500</td>\n",
       "      <td>S</td>\n",
       "    </tr>\n",
       "    <tr>\n",
       "      <th>1</th>\n",
       "      <td>1</td>\n",
       "      <td>1</td>\n",
       "      <td>female</td>\n",
       "      <td>38.0</td>\n",
       "      <td>1</td>\n",
       "      <td>0</td>\n",
       "      <td>71.2833</td>\n",
       "      <td>C</td>\n",
       "    </tr>\n",
       "    <tr>\n",
       "      <th>2</th>\n",
       "      <td>1</td>\n",
       "      <td>3</td>\n",
       "      <td>female</td>\n",
       "      <td>26.0</td>\n",
       "      <td>0</td>\n",
       "      <td>0</td>\n",
       "      <td>7.9250</td>\n",
       "      <td>S</td>\n",
       "    </tr>\n",
       "    <tr>\n",
       "      <th>3</th>\n",
       "      <td>1</td>\n",
       "      <td>1</td>\n",
       "      <td>female</td>\n",
       "      <td>35.0</td>\n",
       "      <td>1</td>\n",
       "      <td>0</td>\n",
       "      <td>53.1000</td>\n",
       "      <td>S</td>\n",
       "    </tr>\n",
       "    <tr>\n",
       "      <th>4</th>\n",
       "      <td>0</td>\n",
       "      <td>3</td>\n",
       "      <td>male</td>\n",
       "      <td>35.0</td>\n",
       "      <td>0</td>\n",
       "      <td>0</td>\n",
       "      <td>8.0500</td>\n",
       "      <td>S</td>\n",
       "    </tr>\n",
       "  </tbody>\n",
       "</table>\n",
       "</div>"
      ],
      "text/plain": [
       "   Survived  Pclass     Sex   Age  SibSp  Parch     Fare Embarked\n",
       "0         0       3    male  22.0      1      0   7.2500        S\n",
       "1         1       1  female  38.0      1      0  71.2833        C\n",
       "2         1       3  female  26.0      0      0   7.9250        S\n",
       "3         1       1  female  35.0      1      0  53.1000        S\n",
       "4         0       3    male  35.0      0      0   8.0500        S"
      ]
     },
     "execution_count": 6,
     "metadata": {},
     "output_type": "execute_result"
    }
   ],
   "source": [
    "df.drop([\"Cabin\",\"Name\",\"PassengerId\",\"Ticket\"],axis = 1,inplace = True)\n",
    "df.head()"
   ]
  },
  {
   "cell_type": "code",
   "execution_count": 7,
   "id": "0d5e9150",
   "metadata": {
    "execution": {
     "iopub.execute_input": "2021-08-22T14:31:29.625865Z",
     "iopub.status.busy": "2021-08-22T14:31:29.625161Z",
     "iopub.status.idle": "2021-08-22T14:31:29.627546Z",
     "shell.execute_reply": "2021-08-22T14:31:29.627920Z",
     "shell.execute_reply.started": "2021-08-22T14:24:07.121277Z"
    },
    "papermill": {
     "duration": 0.032337,
     "end_time": "2021-08-22T14:31:29.628055",
     "exception": false,
     "start_time": "2021-08-22T14:31:29.595718",
     "status": "completed"
    },
    "tags": []
   },
   "outputs": [],
   "source": [
    "df[\"Sex\"] = df[\"Sex\"].astype(str)\n",
    "df[\"Embarked\"] = df[\"Embarked\"].astype(str)"
   ]
  },
  {
   "cell_type": "markdown",
   "id": "b645ee8c",
   "metadata": {
    "papermill": {
     "duration": 0.025128,
     "end_time": "2021-08-22T14:31:29.678625",
     "exception": false,
     "start_time": "2021-08-22T14:31:29.653497",
     "status": "completed"
    },
    "tags": []
   },
   "source": [
    "### Visualization"
   ]
  },
  {
   "cell_type": "code",
   "execution_count": 8,
   "id": "b94efc2f",
   "metadata": {
    "execution": {
     "iopub.execute_input": "2021-08-22T14:31:29.732437Z",
     "iopub.status.busy": "2021-08-22T14:31:29.731641Z",
     "iopub.status.idle": "2021-08-22T14:31:29.859335Z",
     "shell.execute_reply": "2021-08-22T14:31:29.858867Z",
     "shell.execute_reply.started": "2021-08-22T14:24:07.128880Z"
    },
    "papermill": {
     "duration": 0.155812,
     "end_time": "2021-08-22T14:31:29.859470",
     "exception": false,
     "start_time": "2021-08-22T14:31:29.703658",
     "status": "completed"
    },
    "tags": []
   },
   "outputs": [
    {
     "name": "stderr",
     "output_type": "stream",
     "text": [
      "/opt/conda/lib/python3.7/site-packages/seaborn/_decorators.py:43: FutureWarning: Pass the following variable as a keyword arg: x. From version 0.12, the only valid positional argument will be `data`, and passing other arguments without an explicit keyword will result in an error or misinterpretation.\n",
      "  FutureWarning\n"
     ]
    },
    {
     "data": {
      "image/png": "[encoded data removed]",
      "text/plain": [
       "<Figure size 576x360 with 1 Axes>"
      ]
     },
     "metadata": {
      "needs_background": "light"
     },
     "output_type": "display_data"
    }
   ],
   "source": [
    "sns.countplot(\"Sex\", data = df, hue =\"Survived\")\n",
    "plt.show()    "
   ]
  },
  {
   "cell_type": "markdown",
   "id": "e11d2fdf",
   "metadata": {
    "papermill": {
     "duration": 0.0259,
     "end_time": "2021-08-22T14:31:29.911504",
     "exception": false,
     "start_time": "2021-08-22T14:31:29.885604",
     "status": "completed"
    },
    "tags": []
   },
   "source": [
    "0 - Not Survived , 1 - Survived\n",
    "\n",
    "From the above plot we come to know that number of female's were survived when compared to male."
   ]
  },
  {
   "cell_type": "code",
   "execution_count": 9,
   "id": "f8dfdac7",
   "metadata": {
    "execution": {
     "iopub.execute_input": "2021-08-22T14:31:29.970983Z",
     "iopub.status.busy": "2021-08-22T14:31:29.970251Z",
     "iopub.status.idle": "2021-08-22T14:31:30.102632Z",
     "shell.execute_reply": "2021-08-22T14:31:30.102162Z",
     "shell.execute_reply.started": "2021-08-22T14:24:07.301234Z"
    },
    "papermill": {
     "duration": 0.164794,
     "end_time": "2021-08-22T14:31:30.102744",
     "exception": false,
     "start_time": "2021-08-22T14:31:29.937950",
     "status": "completed"
    },
    "tags": []
   },
   "outputs": [
    {
     "name": "stderr",
     "output_type": "stream",
     "text": [
      "/opt/conda/lib/python3.7/site-packages/seaborn/_decorators.py:43: FutureWarning: Pass the following variable as a keyword arg: x. From version 0.12, the only valid positional argument will be `data`, and passing other arguments without an explicit keyword will result in an error or misinterpretation.\n",
      "  FutureWarning\n"
     ]
    },
    {
     "data": {
      "image/png": "[encoded data removed]",
      "text/plain": [
       "<Figure size 576x360 with 1 Axes>"
      ]
     },
     "metadata": {
      "needs_background": "light"
     },
     "output_type": "display_data"
    }
   ],
   "source": [
    "x= [0,1,2]\n",
    "sns.countplot(\"Pclass\", data = df, hue =\"Survived\")\n",
    "labels = [\"1st Class\",\"2nd Class\",\"3rd Class\"]\n",
    "plt.xticks(x, labels)\n",
    "plt.show()    \n"
   ]
  },
  {
   "cell_type": "markdown",
   "id": "bbcaaafb",
   "metadata": {
    "papermill": {
     "duration": 0.028701,
     "end_time": "2021-08-22T14:31:30.158904",
     "exception": false,
     "start_time": "2021-08-22T14:31:30.130203",
     "status": "completed"
    },
    "tags": []
   },
   "source": [
    "0 - Not Survived, 1 - Survived\n",
    "\n",
    "From the above plot we come to know that the people in 1st Class were mostly survived and people in 3rd class were mostly lost their life"
   ]
  },
  {
   "cell_type": "code",
   "execution_count": 10,
   "id": "01b18f35",
   "metadata": {
    "execution": {
     "iopub.execute_input": "2021-08-22T14:31:30.220994Z",
     "iopub.status.busy": "2021-08-22T14:31:30.220136Z",
     "iopub.status.idle": "2021-08-22T14:31:30.365982Z",
     "shell.execute_reply": "2021-08-22T14:31:30.366478Z",
     "shell.execute_reply.started": "2021-08-22T14:24:07.480034Z"
    },
    "papermill": {
     "duration": 0.180537,
     "end_time": "2021-08-22T14:31:30.366620",
     "exception": false,
     "start_time": "2021-08-22T14:31:30.186083",
     "status": "completed"
    },
    "tags": []
   },
   "outputs": [
    {
     "name": "stderr",
     "output_type": "stream",
     "text": [
      "/opt/conda/lib/python3.7/site-packages/seaborn/_decorators.py:43: FutureWarning: Pass the following variable as a keyword arg: x. From version 0.12, the only valid positional argument will be `data`, and passing other arguments without an explicit keyword will result in an error or misinterpretation.\n",
      "  FutureWarning\n"
     ]
    },
    {
     "data": {
      "image/png": "[encoded data removed]",
      "text/plain": [
       "<Figure size 576x360 with 1 Axes>"
      ]
     },
     "metadata": {
      "needs_background": "light"
     },
     "output_type": "display_data"
    }
   ],
   "source": [
    "x = [0,1,2,3]\n",
    "sns.countplot(\"Embarked\", data = df, hue =\"Survived\")\n",
    "labels = [\"Southampton\",\"Cherbourg\", \"Queenstown\", \"Unknown\"]\n",
    "plt.xticks(x,labels)\n",
    "plt.show()    "
   ]
  },
  {
   "cell_type": "markdown",
   "id": "7ed02e69",
   "metadata": {
    "papermill": {
     "duration": 0.027869,
     "end_time": "2021-08-22T14:31:30.422845",
     "exception": false,
     "start_time": "2021-08-22T14:31:30.394976",
     "status": "completed"
    },
    "tags": []
   },
   "source": [
    "### Encoding "
   ]
  },
  {
   "cell_type": "code",
   "execution_count": 11,
   "id": "cd3a0230",
   "metadata": {
    "execution": {
     "iopub.execute_input": "2021-08-22T14:31:30.481819Z",
     "iopub.status.busy": "2021-08-22T14:31:30.481337Z",
     "iopub.status.idle": "2021-08-22T14:31:30.484442Z",
     "shell.execute_reply": "2021-08-22T14:31:30.484918Z",
     "shell.execute_reply.started": "2021-08-22T14:24:34.682207Z"
    },
    "papermill": {
     "duration": 0.03395,
     "end_time": "2021-08-22T14:31:30.485047",
     "exception": false,
     "start_time": "2021-08-22T14:31:30.451097",
     "status": "completed"
    },
    "tags": []
   },
   "outputs": [],
   "source": [
    "le = LabelEncoder()"
   ]
  },
  {
   "cell_type": "code",
   "execution_count": 12,
   "id": "54a99d91",
   "metadata": {
    "execution": {
     "iopub.execute_input": "2021-08-22T14:31:30.554104Z",
     "iopub.status.busy": "2021-08-22T14:31:30.553541Z",
     "iopub.status.idle": "2021-08-22T14:31:30.566744Z",
     "shell.execute_reply": "2021-08-22T14:31:30.567782Z",
     "shell.execute_reply.started": "2021-08-22T14:24:42.049692Z"
    },
    "papermill": {
     "duration": 0.054934,
     "end_time": "2021-08-22T14:31:30.568081",
     "exception": false,
     "start_time": "2021-08-22T14:31:30.513147",
     "status": "completed"
    },
    "tags": []
   },
   "outputs": [
    {
     "data": {
      "text/html": [
       "<div>\n",
       "<style scoped>\n",
       "    .dataframe tbody tr th:only-of-type {\n",
       "        vertical-align: middle;\n",
       "    }\n",
       "\n",
       "    .dataframe tbody tr th {\n",
       "        vertical-align: top;\n",
       "    }\n",
       "\n",
       "    .dataframe thead th {\n",
       "        text-align: right;\n",
       "    }\n",
       "</style>\n",
       "<table border=\"1\" class=\"dataframe\">\n",
       "  <thead>\n",
       "    <tr style=\"text-align: right;\">\n",
       "      <th></th>\n",
       "      <th>Survived</th>\n",
       "      <th>Pclass</th>\n",
       "      <th>Sex</th>\n",
       "      <th>Age</th>\n",
       "      <th>SibSp</th>\n",
       "      <th>Parch</th>\n",
       "      <th>Fare</th>\n",
       "      <th>Embarked</th>\n",
       "    </tr>\n",
       "  </thead>\n",
       "  <tbody>\n",
       "    <tr>\n",
       "      <th>0</th>\n",
       "      <td>0</td>\n",
       "      <td>3</td>\n",
       "      <td>1</td>\n",
       "      <td>22.0</td>\n",
       "      <td>1</td>\n",
       "      <td>0</td>\n",
       "      <td>7.2500</td>\n",
       "      <td>2</td>\n",
       "    </tr>\n",
       "    <tr>\n",
       "      <th>1</th>\n",
       "      <td>1</td>\n",
       "      <td>1</td>\n",
       "      <td>0</td>\n",
       "      <td>38.0</td>\n",
       "      <td>1</td>\n",
       "      <td>0</td>\n",
       "      <td>71.2833</td>\n",
       "      <td>0</td>\n",
       "    </tr>\n",
       "    <tr>\n",
       "      <th>2</th>\n",
       "      <td>1</td>\n",
       "      <td>3</td>\n",
       "      <td>0</td>\n",
       "      <td>26.0</td>\n",
       "      <td>0</td>\n",
       "      <td>0</td>\n",
       "      <td>7.9250</td>\n",
       "      <td>2</td>\n",
       "    </tr>\n",
       "    <tr>\n",
       "      <th>3</th>\n",
       "      <td>1</td>\n",
       "      <td>1</td>\n",
       "      <td>0</td>\n",
       "      <td>35.0</td>\n",
       "      <td>1</td>\n",
       "      <td>0</td>\n",
       "      <td>53.1000</td>\n",
       "      <td>2</td>\n",
       "    </tr>\n",
       "    <tr>\n",
       "      <th>4</th>\n",
       "      <td>0</td>\n",
       "      <td>3</td>\n",
       "      <td>1</td>\n",
       "      <td>35.0</td>\n",
       "      <td>0</td>\n",
       "      <td>0</td>\n",
       "      <td>8.0500</td>\n",
       "      <td>2</td>\n",
       "    </tr>\n",
       "  </tbody>\n",
       "</table>\n",
       "</div>"
      ],
      "text/plain": [
       "   Survived  Pclass  Sex   Age  SibSp  Parch     Fare  Embarked\n",
       "0         0       3    1  22.0      1      0   7.2500         2\n",
       "1         1       1    0  38.0      1      0  71.2833         0\n",
       "2         1       3    0  26.0      0      0   7.9250         2\n",
       "3         1       1    0  35.0      1      0  53.1000         2\n",
       "4         0       3    1  35.0      0      0   8.0500         2"
      ]
     },
     "execution_count": 12,
     "metadata": {},
     "output_type": "execute_result"
    }
   ],
   "source": [
    "for val in df.columns:\n",
    "    if df[val].dtype == \"O\":\n",
    "        df[val] = le.fit_transform(df[val])\n",
    "df.head()"
   ]
  },
  {
   "cell_type": "code",
   "execution_count": 13,
   "id": "9cd26756",
   "metadata": {
    "execution": {
     "iopub.execute_input": "2021-08-22T14:31:30.640706Z",
     "iopub.status.busy": "2021-08-22T14:31:30.639913Z",
     "iopub.status.idle": "2021-08-22T14:31:30.645946Z",
     "shell.execute_reply": "2021-08-22T14:31:30.646451Z",
     "shell.execute_reply.started": "2021-08-22T14:25:02.425945Z"
    },
    "papermill": {
     "duration": 0.04289,
     "end_time": "2021-08-22T14:31:30.646588",
     "exception": false,
     "start_time": "2021-08-22T14:31:30.603698",
     "status": "completed"
    },
    "tags": []
   },
   "outputs": [],
   "source": [
    "def fillmissing_val(col):\n",
    "    mean = col.mean()\n",
    "    col.fillna(mean, inplace = True)\n",
    "fillmissing_val(df[\"Age\"])\n",
    "fillmissing_val(df[\"Fare\"])\n",
    "fillmissing_val(df[\"Embarked\"])"
   ]
  },
  {
   "cell_type": "code",
   "execution_count": 14,
   "id": "b94aa9b7",
   "metadata": {
    "execution": {
     "iopub.execute_input": "2021-08-22T14:31:30.707024Z",
     "iopub.status.busy": "2021-08-22T14:31:30.706251Z",
     "iopub.status.idle": "2021-08-22T14:31:30.710809Z",
     "shell.execute_reply": "2021-08-22T14:31:30.711323Z",
     "shell.execute_reply.started": "2021-08-22T14:25:09.567152Z"
    },
    "papermill": {
     "duration": 0.036025,
     "end_time": "2021-08-22T14:31:30.711457",
     "exception": false,
     "start_time": "2021-08-22T14:31:30.675432",
     "status": "completed"
    },
    "tags": []
   },
   "outputs": [],
   "source": [
    "df[\"Age\"] = np.round(df[\"Age\"])\n",
    "df[\"Age\"] = df[\"Age\"].astype(int)"
   ]
  },
  {
   "cell_type": "code",
   "execution_count": 15,
   "id": "ff58108a",
   "metadata": {
    "execution": {
     "iopub.execute_input": "2021-08-22T14:31:30.771323Z",
     "iopub.status.busy": "2021-08-22T14:31:30.770538Z",
     "iopub.status.idle": "2021-08-22T14:31:30.777301Z",
     "shell.execute_reply": "2021-08-22T14:31:30.777698Z",
     "shell.execute_reply.started": "2021-08-22T14:25:20.632054Z"
    },
    "papermill": {
     "duration": 0.038128,
     "end_time": "2021-08-22T14:31:30.777838",
     "exception": false,
     "start_time": "2021-08-22T14:31:30.739710",
     "status": "completed"
    },
    "tags": []
   },
   "outputs": [
    {
     "data": {
      "text/plain": [
       "Survived    0\n",
       "Pclass      0\n",
       "Sex         0\n",
       "Age         0\n",
       "SibSp       0\n",
       "Parch       0\n",
       "Fare        0\n",
       "Embarked    0\n",
       "dtype: int64"
      ]
     },
     "execution_count": 15,
     "metadata": {},
     "output_type": "execute_result"
    }
   ],
   "source": [
    "df.isnull().sum()"
   ]
  },
  {
   "cell_type": "code",
   "execution_count": 16,
   "id": "83e4af33",
   "metadata": {
    "execution": {
     "iopub.execute_input": "2021-08-22T14:31:30.837516Z",
     "iopub.status.busy": "2021-08-22T14:31:30.836722Z",
     "iopub.status.idle": "2021-08-22T14:31:31.364637Z",
     "shell.execute_reply": "2021-08-22T14:31:31.364120Z",
     "shell.execute_reply.started": "2021-08-22T14:25:30.720794Z"
    },
    "papermill": {
     "duration": 0.558679,
     "end_time": "2021-08-22T14:31:31.364766",
     "exception": false,
     "start_time": "2021-08-22T14:31:30.806087",
     "status": "completed"
    },
    "tags": []
   },
   "outputs": [
    {
     "data": {
      "image/png": "[encoded data removed]",
      "text/plain": [
       "<Figure size 576x360 with 2 Axes>"
      ]
     },
     "metadata": {
      "needs_background": "light"
     },
     "output_type": "display_data"
    }
   ],
   "source": [
    "correlation = df.corr()\n",
    "sns.heatmap(correlation,annot = True)\n",
    "plt.show()"
   ]
  },
  {
   "cell_type": "markdown",
   "id": "dffe60d1",
   "metadata": {
    "papermill": {
     "duration": 0.029956,
     "end_time": "2021-08-22T14:31:31.425394",
     "exception": false,
     "start_time": "2021-08-22T14:31:31.395438",
     "status": "completed"
    },
    "tags": []
   },
   "source": [
    "Fare has the highest correlation with survived variable"
   ]
  },
  {
   "cell_type": "code",
   "execution_count": 17,
   "id": "4940db9b",
   "metadata": {
    "execution": {
     "iopub.execute_input": "2021-08-22T14:31:31.492610Z",
     "iopub.status.busy": "2021-08-22T14:31:31.491917Z",
     "iopub.status.idle": "2021-08-22T14:31:32.123362Z",
     "shell.execute_reply": "2021-08-22T14:31:32.122798Z",
     "shell.execute_reply.started": "2021-08-22T14:27:06.305955Z"
    },
    "papermill": {
     "duration": 0.667805,
     "end_time": "2021-08-22T14:31:32.123480",
     "exception": false,
     "start_time": "2021-08-22T14:31:31.455675",
     "status": "completed"
    },
    "tags": []
   },
   "outputs": [
    {
     "name": "stderr",
     "output_type": "stream",
     "text": [
      "/opt/conda/lib/python3.7/site-packages/seaborn/_decorators.py:43: FutureWarning: Pass the following variable as a keyword arg: x. From version 0.12, the only valid positional argument will be `data`, and passing other arguments without an explicit keyword will result in an error or misinterpretation.\n",
      "  FutureWarning\n"
     ]
    },
    {
     "data": {
      "image/png": "[encoded data removed]",
      "text/plain": [
       "<Figure size 864x432 with 1 Axes>"
      ]
     },
     "metadata": {
      "needs_background": "light"
     },
     "output_type": "display_data"
    }
   ],
   "source": [
    "plt.figure(figsize=(12,6))\n",
    "sns.countplot(\"Age\",data = df, hue = \"Survived\")\n",
    "plt.xticks(range(0,90,4))\n",
    "plt.show()    "
   ]
  },
  {
   "cell_type": "markdown",
   "id": "a6424bdb",
   "metadata": {
    "papermill": {
     "duration": 0.030695,
     "end_time": "2021-08-22T14:31:32.185215",
     "exception": false,
     "start_time": "2021-08-22T14:31:32.154520",
     "status": "completed"
    },
    "tags": []
   },
   "source": [
    "0 - Not Survived, 1 - Survived\n",
    "From the above chart we come to know that the people between the 28 to 32 were survived the most."
   ]
  },
  {
   "cell_type": "markdown",
   "id": "3fc550f2",
   "metadata": {
    "papermill": {
     "duration": 0.030494,
     "end_time": "2021-08-22T14:31:32.246627",
     "exception": false,
     "start_time": "2021-08-22T14:31:32.216133",
     "status": "completed"
    },
    "tags": []
   },
   "source": [
    "### Train Test and Split"
   ]
  },
  {
   "cell_type": "code",
   "execution_count": 18,
   "id": "fd93fef0",
   "metadata": {
    "execution": {
     "iopub.execute_input": "2021-08-22T14:31:32.314671Z",
     "iopub.status.busy": "2021-08-22T14:31:32.312475Z",
     "iopub.status.idle": "2021-08-22T14:31:32.317506Z",
     "shell.execute_reply": "2021-08-22T14:31:32.317064Z",
     "shell.execute_reply.started": "2021-08-22T14:27:58.360765Z"
    },
    "papermill": {
     "duration": 0.040019,
     "end_time": "2021-08-22T14:31:32.317616",
     "exception": false,
     "start_time": "2021-08-22T14:31:32.277597",
     "status": "completed"
    },
    "tags": []
   },
   "outputs": [],
   "source": [
    "X = df.drop(columns = \"Survived\",axis =1)\n",
    "Y = df[\"Survived\"]"
   ]
  },
  {
   "cell_type": "code",
   "execution_count": 19,
   "id": "81055b52",
   "metadata": {
    "execution": {
     "iopub.execute_input": "2021-08-22T14:31:32.385646Z",
     "iopub.status.busy": "2021-08-22T14:31:32.384849Z",
     "iopub.status.idle": "2021-08-22T14:31:32.386998Z",
     "shell.execute_reply": "2021-08-22T14:31:32.387404Z",
     "shell.execute_reply.started": "2021-08-22T14:28:09.798275Z"
    },
    "papermill": {
     "duration": 0.038907,
     "end_time": "2021-08-22T14:31:32.387547",
     "exception": false,
     "start_time": "2021-08-22T14:31:32.348640",
     "status": "completed"
    },
    "tags": []
   },
   "outputs": [],
   "source": [
    "xtrain, xtest, ytrain, ytest = train_test_split(X,Y, test_size = 0.2, random_state = 0)"
   ]
  },
  {
   "cell_type": "markdown",
   "id": "c3ddaf8f",
   "metadata": {
    "papermill": {
     "duration": 0.030772,
     "end_time": "2021-08-22T14:31:32.449455",
     "exception": false,
     "start_time": "2021-08-22T14:31:32.418683",
     "status": "completed"
    },
    "tags": []
   },
   "source": [
    "### Linear Regression"
   ]
  },
  {
   "cell_type": "code",
   "execution_count": 20,
   "id": "183afd81",
   "metadata": {
    "execution": {
     "iopub.execute_input": "2021-08-22T14:31:32.515931Z",
     "iopub.status.busy": "2021-08-22T14:31:32.515400Z",
     "iopub.status.idle": "2021-08-22T14:31:32.518093Z",
     "shell.execute_reply": "2021-08-22T14:31:32.517591Z",
     "shell.execute_reply.started": "2021-08-22T14:28:30.861896Z"
    },
    "papermill": {
     "duration": 0.037155,
     "end_time": "2021-08-22T14:31:32.518198",
     "exception": false,
     "start_time": "2021-08-22T14:31:32.481043",
     "status": "completed"
    },
    "tags": []
   },
   "outputs": [],
   "source": [
    "model = LinearRegression()"
   ]
  },
  {
   "cell_type": "markdown",
   "id": "6c83e9ad",
   "metadata": {
    "papermill": {
     "duration": 0.030818,
     "end_time": "2021-08-22T14:31:32.579567",
     "exception": false,
     "start_time": "2021-08-22T14:31:32.548749",
     "status": "completed"
    },
    "tags": []
   },
   "source": [
    "##### Train Module"
   ]
  },
  {
   "cell_type": "code",
   "execution_count": 21,
   "id": "e77518dc",
   "metadata": {
    "execution": {
     "iopub.execute_input": "2021-08-22T14:31:32.814518Z",
     "iopub.status.busy": "2021-08-22T14:31:32.747370Z",
     "iopub.status.idle": "2021-08-22T14:31:32.823617Z",
     "shell.execute_reply": "2021-08-22T14:31:32.824209Z",
     "shell.execute_reply.started": "2021-08-22T14:29:19.807386Z"
    },
    "papermill": {
     "duration": 0.213996,
     "end_time": "2021-08-22T14:31:32.824373",
     "exception": false,
     "start_time": "2021-08-22T14:31:32.610377",
     "status": "completed"
    },
    "tags": []
   },
   "outputs": [
    {
     "data": {
      "text/html": [
       "<div>\n",
       "<style scoped>\n",
       "    .dataframe tbody tr th:only-of-type {\n",
       "        vertical-align: middle;\n",
       "    }\n",
       "\n",
       "    .dataframe tbody tr th {\n",
       "        vertical-align: top;\n",
       "    }\n",
       "\n",
       "    .dataframe thead th {\n",
       "        text-align: right;\n",
       "    }\n",
       "</style>\n",
       "<table border=\"1\" class=\"dataframe\">\n",
       "  <thead>\n",
       "    <tr style=\"text-align: right;\">\n",
       "      <th></th>\n",
       "      <th>Predicted Value</th>\n",
       "      <th>Actual Value</th>\n",
       "    </tr>\n",
       "  </thead>\n",
       "  <tbody>\n",
       "    <tr>\n",
       "      <th>835</th>\n",
       "      <td>1</td>\n",
       "      <td>1</td>\n",
       "    </tr>\n",
       "    <tr>\n",
       "      <th>192</th>\n",
       "      <td>1</td>\n",
       "      <td>1</td>\n",
       "    </tr>\n",
       "    <tr>\n",
       "      <th>629</th>\n",
       "      <td>0</td>\n",
       "      <td>0</td>\n",
       "    </tr>\n",
       "    <tr>\n",
       "      <th>559</th>\n",
       "      <td>1</td>\n",
       "      <td>1</td>\n",
       "    </tr>\n",
       "    <tr>\n",
       "      <th>684</th>\n",
       "      <td>0</td>\n",
       "      <td>0</td>\n",
       "    </tr>\n",
       "  </tbody>\n",
       "</table>\n",
       "</div>"
      ],
      "text/plain": [
       "     Predicted Value  Actual Value\n",
       "835                1             1\n",
       "192                1             1\n",
       "629                0             0\n",
       "559                1             1\n",
       "684                0             0"
      ]
     },
     "execution_count": 21,
     "metadata": {},
     "output_type": "execute_result"
    }
   ],
   "source": [
    "model.fit(xtrain,ytrain) \n",
    "xtrain_predict = model.predict(xtrain)\n",
    "xtrain_predict = np.round(xtrain_predict).astype(int)\n",
    "\n",
    "train_predict = pd.DataFrame({\"Predicted Value\" : xtrain_predict,\n",
    "                              \"Actual Value\" : ytrain\n",
    "})\n",
    "train_predict.tail()"
   ]
  },
  {
   "cell_type": "code",
   "execution_count": 22,
   "id": "e3c56a5c",
   "metadata": {
    "execution": {
     "iopub.execute_input": "2021-08-22T14:31:32.890043Z",
     "iopub.status.busy": "2021-08-22T14:31:32.889250Z",
     "iopub.status.idle": "2021-08-22T14:31:32.894925Z",
     "shell.execute_reply": "2021-08-22T14:31:32.894522Z",
     "shell.execute_reply.started": "2021-08-22T14:29:31.929502Z"
    },
    "papermill": {
     "duration": 0.039333,
     "end_time": "2021-08-22T14:31:32.895039",
     "exception": false,
     "start_time": "2021-08-22T14:31:32.855706",
     "status": "completed"
    },
    "tags": []
   },
   "outputs": [
    {
     "name": "stdout",
     "output_type": "stream",
     "text": [
      "0.8033707865168539\n"
     ]
    }
   ],
   "source": [
    "train_accuracy = accuracy_score(xtrain_predict,ytrain)\n",
    "print(train_accuracy)"
   ]
  },
  {
   "cell_type": "markdown",
   "id": "58dd0fd9",
   "metadata": {
    "papermill": {
     "duration": 0.031321,
     "end_time": "2021-08-22T14:31:32.957824",
     "exception": false,
     "start_time": "2021-08-22T14:31:32.926503",
     "status": "completed"
    },
    "tags": []
   },
   "source": [
    "##### Test module"
   ]
  },
  {
   "cell_type": "code",
   "execution_count": 23,
   "id": "b26be941",
   "metadata": {
    "execution": {
     "iopub.execute_input": "2021-08-22T14:31:33.031608Z",
     "iopub.status.busy": "2021-08-22T14:31:33.030805Z",
     "iopub.status.idle": "2021-08-22T14:31:33.033935Z",
     "shell.execute_reply": "2021-08-22T14:31:33.034430Z",
     "shell.execute_reply.started": "2021-08-22T14:30:01.078098Z"
    },
    "papermill": {
     "duration": 0.045299,
     "end_time": "2021-08-22T14:31:33.034561",
     "exception": false,
     "start_time": "2021-08-22T14:31:32.989262",
     "status": "completed"
    },
    "tags": []
   },
   "outputs": [
    {
     "data": {
      "text/html": [
       "<div>\n",
       "<style scoped>\n",
       "    .dataframe tbody tr th:only-of-type {\n",
       "        vertical-align: middle;\n",
       "    }\n",
       "\n",
       "    .dataframe tbody tr th {\n",
       "        vertical-align: top;\n",
       "    }\n",
       "\n",
       "    .dataframe thead th {\n",
       "        text-align: right;\n",
       "    }\n",
       "</style>\n",
       "<table border=\"1\" class=\"dataframe\">\n",
       "  <thead>\n",
       "    <tr style=\"text-align: right;\">\n",
       "      <th></th>\n",
       "      <th>Predicted Value</th>\n",
       "      <th>Actual Value</th>\n",
       "    </tr>\n",
       "  </thead>\n",
       "  <tbody>\n",
       "    <tr>\n",
       "      <th>495</th>\n",
       "      <td>0</td>\n",
       "      <td>0</td>\n",
       "    </tr>\n",
       "    <tr>\n",
       "      <th>648</th>\n",
       "      <td>0</td>\n",
       "      <td>0</td>\n",
       "    </tr>\n",
       "    <tr>\n",
       "      <th>278</th>\n",
       "      <td>0</td>\n",
       "      <td>0</td>\n",
       "    </tr>\n",
       "    <tr>\n",
       "      <th>31</th>\n",
       "      <td>1</td>\n",
       "      <td>1</td>\n",
       "    </tr>\n",
       "    <tr>\n",
       "      <th>255</th>\n",
       "      <td>1</td>\n",
       "      <td>1</td>\n",
       "    </tr>\n",
       "  </tbody>\n",
       "</table>\n",
       "</div>"
      ],
      "text/plain": [
       "     Predicted Value  Actual Value\n",
       "495                0             0\n",
       "648                0             0\n",
       "278                0             0\n",
       "31                 1             1\n",
       "255                1             1"
      ]
     },
     "execution_count": 23,
     "metadata": {},
     "output_type": "execute_result"
    }
   ],
   "source": [
    "xtest_predict = model.predict(xtest)\n",
    "xtest_predict = np.round(xtest_predict).astype(int)\n",
    "\n",
    "test_predict = pd.DataFrame({\"Predicted Value\" : xtest_predict,\n",
    "                              \"Actual Value\" : ytest\n",
    "})\n",
    "test_predict.head()"
   ]
  },
  {
   "cell_type": "code",
   "execution_count": 24,
   "id": "ffcd28e9",
   "metadata": {
    "execution": {
     "iopub.execute_input": "2021-08-22T14:31:33.100619Z",
     "iopub.status.busy": "2021-08-22T14:31:33.099825Z",
     "iopub.status.idle": "2021-08-22T14:31:33.105062Z",
     "shell.execute_reply": "2021-08-22T14:31:33.105481Z",
     "shell.execute_reply.started": "2021-08-22T14:30:16.565992Z"
    },
    "papermill": {
     "duration": 0.039418,
     "end_time": "2021-08-22T14:31:33.105611",
     "exception": false,
     "start_time": "2021-08-22T14:31:33.066193",
     "status": "completed"
    },
    "tags": []
   },
   "outputs": [
    {
     "name": "stdout",
     "output_type": "stream",
     "text": [
      "0.7877094972067039\n"
     ]
    }
   ],
   "source": [
    "test_accuracy = accuracy_score(xtest_predict,ytest)\n",
    "print(test_accuracy)"
   ]
  },
  {
   "cell_type": "markdown",
   "id": "8e4c421f",
   "metadata": {
    "papermill": {
     "duration": 0.03192,
     "end_time": "2021-08-22T14:31:33.169826",
     "exception": false,
     "start_time": "2021-08-22T14:31:33.137906",
     "status": "completed"
    },
    "tags": []
   },
   "source": [
    "### Thank You !!!"
   ]
  },
  {
   "cell_type": "code",
   "execution_count": null,
   "id": "90c418d2",
   "metadata": {
    "papermill": {
     "duration": 0.031561,
     "end_time": "2021-08-22T14:31:33.233053",
     "exception": false,
     "start_time": "2021-08-22T14:31:33.201492",
     "status": "completed"
    },
    "tags": []
   },
   "outputs": [],
   "source": []
  }
 ],
 "metadata": {
  "kernelspec": {
   "display_name": "Python 3",
   "language": "python",
   "name": "python3"
  },
  "language_info": {
   "codemirror_mode": {
    "name": "ipython",
    "version": 3
   },
   "file_extension": ".py",
   "mimetype": "text/x-python",
   "name": "python",
   "nbconvert_exporter": "python",
   "pygments_lexer": "ipython3",
   "version": "3.7.10"
  },
  "papermill": {
   "default_parameters": {},
   "duration": 13.632148,
   "end_time": "2021-08-22T14:31:34.642593",
   "environment_variables": {},
   "exception": null,
   "input_path": "__notebook__.ipynb",
   "output_path": "__notebook__.ipynb",
   "parameters": {},
   "start_time": "2021-08-22T14:31:21.010445",
   "version": "2.3.3"
  }
 },
 "nbformat": 4,
 "nbformat_minor": 5
}
