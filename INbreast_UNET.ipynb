{
  "nbformat": 4,
  "nbformat_minor": 0,
  "metadata": {
    "colab": {
      "name": "INbreast UNET Preprocessing.ipynb",
      "provenance": [],
      "collapsed_sections": []
    },
    "kernelspec": {
      "name": "python3",
      "display_name": "Python 3"
    },
    "language_info": {
      "name": "python"
    },
    "accelerator": "TPU"
  },
  "cells": [
    {
      "cell_type": "markdown",
      "source": [
        "## **INbreast Cancer Dataset**\n",
        "\n",
        "URL - https://www.kaggle.com/datasets/ramanathansp20/inbreast-dataset\n",
        "\n",
        "The images of the dataset are given in a DCM format, Which is an medical format used for DICOM which stands for Digital Imaging and Communications in Medicine. This is the common file format used to store medical imaging data when a patient undergoes a CT, MRI, PET, UltraSound, and many other types of medical scans.\n",
        "\n",
        "The images are need to be converted to a jpg format to further process the dataset."
      ],
      "metadata": {
        "id": "DPU6VBw9HabO"
      }
    },
    {
      "cell_type": "markdown",
      "source": [
        "## **Converting DICOM images to JPG Format**"
      ],
      "metadata": {
        "id": "alCGc-uEHdm7"
      }
    },
    {
      "cell_type": "code",
      "source": [
        "%%capture\n",
        "!pip install pydicom"
      ],
      "metadata": {
        "id": "BeWprTS-5P0m"
      },
      "execution_count": null,
      "outputs": []
    },
    {
      "cell_type": "code",
      "source": [
        "import pydicom \n",
        "import matplotlib.pyplot as plt\n",
        "import os\n",
        "import cv2\n",
        "from PIL import Image \n",
        "import numpy as np\n",
        "import matplotlib.image as mpimg\n",
        "\n",
        "from scipy import ndimage\n",
        "from skimage import morphology"
      ],
      "metadata": {
        "id": "gqTxoVHB7i9e"
      },
      "execution_count": null,
      "outputs": []
    },
    {
      "cell_type": "code",
      "source": [
        "path = \"/content/drive/MyDrive/INBREAST/AllDICOMs/\"\n",
        "single_img_path = \"/content/drive/MyDrive/INBREAST/AllDICOMs/20586908_6c613a14b80a8591_MG_R_CC_ANON.dcm\"\n",
        "target_path = \"/content/drive/MyDrive/INBREAST/INbreastImages\""
      ],
      "metadata": {
        "id": "IiIJo5aW8DTj"
      },
      "execution_count": null,
      "outputs": []
    },
    {
      "cell_type": "code",
      "source": [
        "medical_image = pydicom.read_file(single_img_path)\n",
        "print(medical_image)"
      ],
      "metadata": {
        "colab": {
          "base_uri": "https://localhost:8080/"
        },
        "id": "PJn4aqXOv_KS",
        "outputId": "f4f558b9-1bc8-4b4f-905a-25f9093c8f62"
      },
      "execution_count": null,
      "outputs": [
        {
          "output_type": "stream",
          "name": "stdout",
          "text": [
            "Dataset.file_meta -------------------------------\n",
            "(0002, 0000) File Meta Information Group Length  UL: 208\n",
            "(0002, 0001) File Meta Information Version       OB: b'\\x00\\x01'\n",
            "(0002, 0002) Media Storage SOP Class UID         UI: Secondary Capture Image Storage\n",
            "(0002, 0003) Media Storage SOP Instance UID      UI: 1.3.6.1.4.1.9590.100.1.1.241740140812485214905427915863105056665\n",
            "(0002, 0010) Transfer Syntax UID                 UI: Implicit VR Little Endian\n",
            "(0002, 0012) Implementation Class UID            UI: 1.3.6.1.4.1.9590.100.1.0.100.4.0\n",
            "(0002, 0013) Implementation Version Name         SH: 'MATLAB IPT 4.0'\n",
            "-------------------------------------------------\n",
            "(0008, 0016) SOP Class UID                       UI: Secondary Capture Image Storage\n",
            "(0008, 0018) SOP Instance UID                    UI: 1.3.6.1.4.1.9590.100.1.1.241740140812485214905427915863105056665\n",
            "(0008, 0020) Study Date                          DA: ''\n",
            "(0008, 0023) Content Date                        DA: '20111229'\n",
            "(0008, 0030) Study Time                          TM: ''\n",
            "(0008, 0033) Content Time                        TM: '212728.687004'\n",
            "(0008, 0050) Accession Number                    SH: ''\n",
            "(0008, 0060) Modality                            CS: 'OT'\n",
            "(0008, 0064) Conversion Type                     CS: 'WSD'\n",
            "(0008, 0090) Referring Physician's Name          PN: ''\n",
            "(0010, 0010) Patient's Name                      PN: ''\n",
            "(0010, 0020) Patient ID                          LO: ''\n",
            "(0010, 0030) Patient's Birth Date                DA: ''\n",
            "(0010, 0040) Patient's Sex                       CS: ''\n",
            "(0018, 1016) Secondary Capture Device Manufactur LO: 'The MathWorks'\n",
            "(0018, 1018) Secondary Capture Device Manufactur LO: 'MATLAB'\n",
            "(0020, 000d) Study Instance UID                  UI: 1.3.6.1.4.1.9590.100.1.1.134970997511559836809032193482781922275\n",
            "(0020, 000e) Series Instance UID                 UI: 1.3.6.1.4.1.9590.100.1.1.353208385611789106605936574741385682534\n",
            "(0020, 0010) Study ID                            SH: ''\n",
            "(0020, 0011) Series Number                       IS: None\n",
            "(0020, 0013) Instance Number                     IS: None\n",
            "(0020, 0020) Patient Orientation                 CS: ''\n",
            "(0028, 0002) Samples per Pixel                   US: 1\n",
            "(0028, 0004) Photometric Interpretation          CS: 'MONOCHROME2'\n",
            "(0028, 0010) Rows                                US: 4084\n",
            "(0028, 0011) Columns                             US: 3328\n",
            "(0028, 0100) Bits Allocated                      US: 16\n",
            "(0028, 0101) Bits Stored                         US: 16\n",
            "(0028, 0102) High Bit                            US: 15\n",
            "(0028, 0103) Pixel Representation                US: 0\n",
            "(0028, 0106) Smallest Image Pixel Value          US: 0\n",
            "(0028, 0107) Largest Image Pixel Value           US: 2970\n",
            "(7fe0, 0010) Pixel Data                          OW: Array of 27183104 elements\n"
          ]
        }
      ]
    },
    {
      "cell_type": "code",
      "source": [
        "img = medical_image.pixel_array\n",
        "print(img.shape)"
      ],
      "metadata": {
        "id": "Jne_EnQJ8kQ-",
        "colab": {
          "base_uri": "https://localhost:8080/"
        },
        "outputId": "52ece770-d300-411f-aaa2-c9bfe808d1b8"
      },
      "execution_count": null,
      "outputs": [
        {
          "output_type": "stream",
          "name": "stdout",
          "text": [
            "(4084, 3328)\n"
          ]
        }
      ]
    },
    {
      "cell_type": "code",
      "source": [
        "plt.imshow(img)\n",
        "plt.show()"
      ],
      "metadata": {
        "colab": {
          "base_uri": "https://localhost:8080/",
          "height": 269
        },
        "id": "cAYOrTpm7rN8",
        "outputId": "11218ffc-6123-4d18-9629-f1907164de6f"
      },
      "execution_count": null,
      "outputs": [
        {
          "output_type": "display_data",
          "data": {
            "text/plain": [
              "<Figure size 432x288 with 1 Axes>"
            ],
            "image/png": "[encoded data removed]"
          },
          "metadata": {
            "needs_background": "light"
          }
        }
      ]
    },
    {
      "cell_type": "markdown",
      "source": [
        "### **Saving the converted images to jpg format**"
      ],
      "metadata": {
        "id": "uM3o1YfmHjCg"
      }
    },
    {
      "cell_type": "code",
      "source": [
        "image_dir= os.listdir(path)"
      ],
      "metadata": {
        "id": "fNvBzo_28Bzx"
      },
      "execution_count": null,
      "outputs": []
    },
    {
      "cell_type": "code",
      "source": [
        "for img in image_dir:\n",
        "  img_path = f'/content/drive/MyDrive/INBREAST/AllDICOMs/{img}'\n",
        "  img_id = img.split(\"_\")[0]\n",
        "  \n",
        "  im = pydicom.dcmread(img_path)\n",
        "  im = im.pixel_array.astype(float)\n",
        "\n",
        "  rescaled_image = (np.maximum(im,0)/im.max())*255 \n",
        "  final_image = np.uint8(rescaled_image)\n",
        "\n",
        "  final_image = Image.fromarray(final_image)\n",
        "  plt.imshow(final_image)\n",
        "  if os.path.exists(\"/content/drive/MyDrive/INBREAST/INbreastImages/\"):\n",
        "    break\n",
        "  else:\n",
        "    os.mkdir(\"/content/drive/MyDrive/INBREAST/INbreastImages\")\n",
        "    final_image.save(f\"/content/drive/MyDrive/INBREAST/INbreastImages/{img_id}.jpg\") "
      ],
      "metadata": {
        "id": "7iy1cPae_LMY",
        "colab": {
          "base_uri": "https://localhost:8080/",
          "height": 269
        },
        "outputId": "a5d28048-80ca-4c9e-ad65-db4f861ba329"
      },
      "execution_count": null,
      "outputs": [
        {
          "output_type": "display_data",
          "data": {
            "text/plain": [
              "<Figure size 432x288 with 1 Axes>"
            ],
            "image/png": "[encoded data removed]"
          },
          "metadata": {
            "needs_background": "light"
          }
        }
      ]
    },
    {
      "cell_type": "markdown",
      "source": [
        "### **Preprocessing the Dataset to process further** "
      ],
      "metadata": {
        "id": "rZy1uMkcHrrB"
      }
    },
    {
      "cell_type": "code",
      "source": [
        "import re\n",
        "import pandas as pd\n",
        "import shutil\n",
        "import sys"
      ],
      "metadata": {
        "id": "Rbm10jmj9ZVa"
      },
      "execution_count": null,
      "outputs": []
    },
    {
      "cell_type": "code",
      "source": [
        "df = pd.read_csv(\"/content/drive/MyDrive/INBREAST/INbreast.csv\",sep=\";\")\n",
        "df.head()"
      ],
      "metadata": {
        "colab": {
          "base_uri": "https://localhost:8080/",
          "height": 206
        },
        "id": "l3EBXakG9ZSt",
        "outputId": "4e5feaad-081e-48fd-e6fb-c53675c386f1"
      },
      "execution_count": null,
      "outputs": [
        {
          "output_type": "execute_result",
          "data": {
            "text/plain": [
              "  Patient ID Patient age Laterality View  Acquisition date  File Name ACR  \\\n",
              "0    removed     removed          R   CC            201001   22678622   4   \n",
              "1    removed     removed          L   CC            201001   22678646   4   \n",
              "2    removed     removed          R  MLO            201001   22678670   4   \n",
              "3    removed     removed          L  MLO            201001   22678694   4   \n",
              "4    removed     removed          R   CC            201001   22614074   2   \n",
              "\n",
              "  Bi-Rads  \n",
              "0       1  \n",
              "1       3  \n",
              "2       1  \n",
              "3       3  \n",
              "4       5  "
            ],
            "text/html": [
              "\n",
              "  <div id=\"df-21161326-6a05-47e8-97e5-3f08ac365c74\">\n",
              "    <div class=\"colab-df-container\">\n",
              "      <div>\n",
              "<style scoped>\n",
              "    .dataframe tbody tr th:only-of-type {\n",
              "        vertical-align: middle;\n",
              "    }\n",
              "\n",
              "    .dataframe tbody tr th {\n",
              "        vertical-align: top;\n",
              "    }\n",
              "\n",
              "    .dataframe thead th {\n",
              "        text-align: right;\n",
              "    }\n",
              "</style>\n",
              "<table border=\"1\" class=\"dataframe\">\n",
              "  <thead>\n",
              "    <tr style=\"text-align: right;\">\n",
              "      <th></th>\n",
              "      <th>Patient ID</th>\n",
              "      <th>Patient age</th>\n",
              "      <th>Laterality</th>\n",
              "      <th>View</th>\n",
              "      <th>Acquisition date</th>\n",
              "      <th>File Name</th>\n",
              "      <th>ACR</th>\n",
              "      <th>Bi-Rads</th>\n",
              "    </tr>\n",
              "  </thead>\n",
              "  <tbody>\n",
              "    <tr>\n",
              "      <th>0</th>\n",
              "      <td>removed</td>\n",
              "      <td>removed</td>\n",
              "      <td>R</td>\n",
              "      <td>CC</td>\n",
              "      <td>201001</td>\n",
              "      <td>22678622</td>\n",
              "      <td>4</td>\n",
              "      <td>1</td>\n",
              "    </tr>\n",
              "    <tr>\n",
              "      <th>1</th>\n",
              "      <td>removed</td>\n",
              "      <td>removed</td>\n",
              "      <td>L</td>\n",
              "      <td>CC</td>\n",
              "      <td>201001</td>\n",
              "      <td>22678646</td>\n",
              "      <td>4</td>\n",
              "      <td>3</td>\n",
              "    </tr>\n",
              "    <tr>\n",
              "      <th>2</th>\n",
              "      <td>removed</td>\n",
              "      <td>removed</td>\n",
              "      <td>R</td>\n",
              "      <td>MLO</td>\n",
              "      <td>201001</td>\n",
              "      <td>22678670</td>\n",
              "      <td>4</td>\n",
              "      <td>1</td>\n",
              "    </tr>\n",
              "    <tr>\n",
              "      <th>3</th>\n",
              "      <td>removed</td>\n",
              "      <td>removed</td>\n",
              "      <td>L</td>\n",
              "      <td>MLO</td>\n",
              "      <td>201001</td>\n",
              "      <td>22678694</td>\n",
              "      <td>4</td>\n",
              "      <td>3</td>\n",
              "    </tr>\n",
              "    <tr>\n",
              "      <th>4</th>\n",
              "      <td>removed</td>\n",
              "      <td>removed</td>\n",
              "      <td>R</td>\n",
              "      <td>CC</td>\n",
              "      <td>201001</td>\n",
              "      <td>22614074</td>\n",
              "      <td>2</td>\n",
              "      <td>5</td>\n",
              "    </tr>\n",
              "  </tbody>\n",
              "</table>\n",
              "</div>\n",
              "      <button class=\"colab-df-convert\" onclick=\"convertToInteractive('df-21161326-6a05-47e8-97e5-3f08ac365c74')\"\n",
              "              title=\"Convert this dataframe to an interactive table.\"\n",
              "              style=\"display:none;\">\n",
              "        \n",
              "  <svg xmlns=\"http://www.w3.org/2000/svg\" height=\"24px\"viewBox=\"0 0 24 24\"\n",
              "       width=\"24px\">\n",
              "    <path d=\"M0 0h24v24H0V0z\" fill=\"none\"/>\n",
              "    <path d=\"M18.56 5.44l.94 2.06.94-2.06 2.06-.94-2.06-.94-.94-2.06-.94 2.06-2.06.94zm-11 1L8.5 8.5l.94-2.06 2.06-.94-2.06-.94L8.5 2.5l-.94 2.06-2.06.94zm10 10l.94 2.06.94-2.06 2.06-.94-2.06-.94-.94-2.06-.94 2.06-2.06.94z\"/><path d=\"M17.41 7.96l-1.37-1.37c-.4-.4-.92-.59-1.43-.59-.52 0-1.04.2-1.43.59L10.3 9.45l-7.72 7.72c-.78.78-.78 2.05 0 2.83L4 21.41c.39.39.9.59 1.41.59.51 0 1.02-.2 1.41-.59l7.78-7.78 2.81-2.81c.8-.78.8-2.07 0-2.86zM5.41 20L4 18.59l7.72-7.72 1.47 1.35L5.41 20z\"/>\n",
              "  </svg>\n",
              "      </button>\n",
              "      \n",
              "  <style>\n",
              "    .colab-df-container {\n",
              "      display:flex;\n",
              "      flex-wrap:wrap;\n",
              "      gap: 12px;\n",
              "    }\n",
              "\n",
              "    .colab-df-convert {\n",
              "      background-color: #E8F0FE;\n",
              "      border: none;\n",
              "      border-radius: 50%;\n",
              "      cursor: pointer;\n",
              "      display: none;\n",
              "      fill: #1967D2;\n",
              "      height: 32px;\n",
              "      padding: 0 0 0 0;\n",
              "      width: 32px;\n",
              "    }\n",
              "\n",
              "    .colab-df-convert:hover {\n",
              "      background-color: #E2EBFA;\n",
              "      box-shadow: 0px 1px 2px rgba(60, 64, 67, 0.3), 0px 1px 3px 1px rgba(60, 64, 67, 0.15);\n",
              "      fill: #174EA6;\n",
              "    }\n",
              "\n",
              "    [theme=dark] .colab-df-convert {\n",
              "      background-color: #3B4455;\n",
              "      fill: #D2E3FC;\n",
              "    }\n",
              "\n",
              "    [theme=dark] .colab-df-convert:hover {\n",
              "      background-color: #434B5C;\n",
              "      box-shadow: 0px 1px 3px 1px rgba(0, 0, 0, 0.15);\n",
              "      filter: drop-shadow(0px 1px 2px rgba(0, 0, 0, 0.3));\n",
              "      fill: #FFFFFF;\n",
              "    }\n",
              "  </style>\n",
              "\n",
              "      <script>\n",
              "        const buttonEl =\n",
              "          document.querySelector('#df-21161326-6a05-47e8-97e5-3f08ac365c74 button.colab-df-convert');\n",
              "        buttonEl.style.display =\n",
              "          google.colab.kernel.accessAllowed ? 'block' : 'none';\n",
              "\n",
              "        async function convertToInteractive(key) {\n",
              "          const element = document.querySelector('#df-21161326-6a05-47e8-97e5-3f08ac365c74');\n",
              "          const dataTable =\n",
              "            await google.colab.kernel.invokeFunction('convertToInteractive',\n",
              "                                                     [key], {});\n",
              "          if (!dataTable) return;\n",
              "\n",
              "          const docLinkHtml = 'Like what you see? Visit the ' +\n",
              "            '<a target=\"_blank\" href=https://colab.research.google.com/notebooks/data_table.ipynb>data table notebook</a>'\n",
              "            + ' to learn more about interactive tables.';\n",
              "          element.innerHTML = '';\n",
              "          dataTable['output_type'] = 'display_data';\n",
              "          await google.colab.output.renderOutput(dataTable, element);\n",
              "          const docLink = document.createElement('div');\n",
              "          docLink.innerHTML = docLinkHtml;\n",
              "          element.appendChild(docLink);\n",
              "        }\n",
              "      </script>\n",
              "    </div>\n",
              "  </div>\n",
              "  "
            ]
          },
          "metadata": {},
          "execution_count": 10
        }
      ]
    },
    {
      "cell_type": "code",
      "source": [
        "df.info()"
      ],
      "metadata": {
        "colab": {
          "base_uri": "https://localhost:8080/"
        },
        "id": "cfNldt459ZPe",
        "outputId": "0573fd57-dfa5-482b-d4e1-6957b29a1910"
      },
      "execution_count": null,
      "outputs": [
        {
          "output_type": "stream",
          "name": "stdout",
          "text": [
            "<class 'pandas.core.frame.DataFrame'>\n",
            "RangeIndex: 410 entries, 0 to 409\n",
            "Data columns (total 8 columns):\n",
            " #   Column            Non-Null Count  Dtype \n",
            "---  ------            --------------  ----- \n",
            " 0   Patient ID        410 non-null    object\n",
            " 1   Patient age       410 non-null    object\n",
            " 2   Laterality        410 non-null    object\n",
            " 3   View              410 non-null    object\n",
            " 4   Acquisition date  410 non-null    int64 \n",
            " 5   File Name         410 non-null    int64 \n",
            " 6   ACR               410 non-null    object\n",
            " 7   Bi-Rads           410 non-null    object\n",
            "dtypes: int64(2), object(6)\n",
            "memory usage: 25.8+ KB\n"
          ]
        }
      ]
    },
    {
      "cell_type": "code",
      "source": [
        "df[\"Bi-Rads\"].value_counts()"
      ],
      "metadata": {
        "colab": {
          "base_uri": "https://localhost:8080/"
        },
        "id": "aPOCRVBr9ZMg",
        "outputId": "1aaadd70-62fb-4b20-c9dd-b994838a58e6"
      },
      "execution_count": null,
      "outputs": [
        {
          "output_type": "execute_result",
          "data": {
            "text/plain": [
              "2     220\n",
              "1      67\n",
              "5      49\n",
              "3      23\n",
              "4c     22\n",
              "4a     13\n",
              "6       8\n",
              "4b      8\n",
              "Name: Bi-Rads, dtype: int64"
            ]
          },
          "metadata": {},
          "execution_count": 12
        }
      ]
    },
    {
      "cell_type": "code",
      "source": [
        "df[\"Bi-Rads\"].unique()"
      ],
      "metadata": {
        "colab": {
          "base_uri": "https://localhost:8080/"
        },
        "id": "4RgJQO-r9ZJY",
        "outputId": "67834fda-574f-4d8c-fc09-66df5a128b7f"
      },
      "execution_count": null,
      "outputs": [
        {
          "output_type": "execute_result",
          "data": {
            "text/plain": [
              "array(['1', '3', '5', '2', '4a', '4c', '6', '4b'], dtype=object)"
            ]
          },
          "metadata": {},
          "execution_count": 13
        }
      ]
    },
    {
      "cell_type": "code",
      "source": [
        "df[\"Bi-Rads\"] = df[\"Bi-Rads\"].str.replace(r'[^0-9]+', '')"
      ],
      "metadata": {
        "colab": {
          "base_uri": "https://localhost:8080/"
        },
        "id": "TEOPDKT99rRV",
        "outputId": "b56d31a9-719e-4a5d-eef9-e9857f119542"
      },
      "execution_count": null,
      "outputs": [
        {
          "output_type": "stream",
          "name": "stderr",
          "text": [
            "/usr/local/lib/python3.7/dist-packages/ipykernel_launcher.py:1: FutureWarning: The default value of regex will change from True to False in a future version.\n",
            "  \"\"\"Entry point for launching an IPython kernel.\n"
          ]
        }
      ]
    },
    {
      "cell_type": "code",
      "source": [
        "df[\"Bi-Rads\"].unique()"
      ],
      "metadata": {
        "colab": {
          "base_uri": "https://localhost:8080/"
        },
        "id": "QzIRguWw9rPA",
        "outputId": "c08c5a77-14b6-4f66-cbbc-74991725803f"
      },
      "execution_count": null,
      "outputs": [
        {
          "output_type": "execute_result",
          "data": {
            "text/plain": [
              "array(['1', '3', '5', '2', '4', '6'], dtype=object)"
            ]
          },
          "metadata": {},
          "execution_count": 15
        }
      ]
    },
    {
      "cell_type": "code",
      "source": [
        "df[\"Bi-Rads\"] = df[\"Bi-Rads\"].astype(int)"
      ],
      "metadata": {
        "id": "UPJBj4aN9rLp"
      },
      "execution_count": null,
      "outputs": []
    },
    {
      "cell_type": "code",
      "source": [
        "result = []\n",
        "for bi in df[\"Bi-Rads\"]:\n",
        "  if bi == 1:\n",
        "    result.append(\"Normal\")\n",
        "  elif bi > 1 and bi < 3:\n",
        "    result.append(\"Benign\")\n",
        "  else:\n",
        "    result.append(\"Malignant\")\n",
        "\n",
        "df[\"Severity\"] = result   "
      ],
      "metadata": {
        "id": "7VD4EfPM9rIg"
      },
      "execution_count": null,
      "outputs": []
    },
    {
      "cell_type": "code",
      "source": [
        "df.head()"
      ],
      "metadata": {
        "colab": {
          "base_uri": "https://localhost:8080/",
          "height": 206
        },
        "id": "VAOU6A4t9rDh",
        "outputId": "d5c7dd55-10cf-482f-86bf-7fe0227b6f48"
      },
      "execution_count": null,
      "outputs": [
        {
          "output_type": "execute_result",
          "data": {
            "text/plain": [
              "  Patient ID Patient age Laterality View  Acquisition date  File Name ACR  \\\n",
              "0    removed     removed          R   CC            201001   22678622   4   \n",
              "1    removed     removed          L   CC            201001   22678646   4   \n",
              "2    removed     removed          R  MLO            201001   22678670   4   \n",
              "3    removed     removed          L  MLO            201001   22678694   4   \n",
              "4    removed     removed          R   CC            201001   22614074   2   \n",
              "\n",
              "   Bi-Rads   Severity  \n",
              "0        1     Normal  \n",
              "1        3  Malignant  \n",
              "2        1     Normal  \n",
              "3        3  Malignant  \n",
              "4        5  Malignant  "
            ],
            "text/html": [
              "\n",
              "  <div id=\"df-d6b02e26-c649-4454-8921-c8d45db929ff\">\n",
              "    <div class=\"colab-df-container\">\n",
              "      <div>\n",
              "<style scoped>\n",
              "    .dataframe tbody tr th:only-of-type {\n",
              "        vertical-align: middle;\n",
              "    }\n",
              "\n",
              "    .dataframe tbody tr th {\n",
              "        vertical-align: top;\n",
              "    }\n",
              "\n",
              "    .dataframe thead th {\n",
              "        text-align: right;\n",
              "    }\n",
              "</style>\n",
              "<table border=\"1\" class=\"dataframe\">\n",
              "  <thead>\n",
              "    <tr style=\"text-align: right;\">\n",
              "      <th></th>\n",
              "      <th>Patient ID</th>\n",
              "      <th>Patient age</th>\n",
              "      <th>Laterality</th>\n",
              "      <th>View</th>\n",
              "      <th>Acquisition date</th>\n",
              "      <th>File Name</th>\n",
              "      <th>ACR</th>\n",
              "      <th>Bi-Rads</th>\n",
              "      <th>Severity</th>\n",
              "    </tr>\n",
              "  </thead>\n",
              "  <tbody>\n",
              "    <tr>\n",
              "      <th>0</th>\n",
              "      <td>removed</td>\n",
              "      <td>removed</td>\n",
              "      <td>R</td>\n",
              "      <td>CC</td>\n",
              "      <td>201001</td>\n",
              "      <td>22678622</td>\n",
              "      <td>4</td>\n",
              "      <td>1</td>\n",
              "      <td>Normal</td>\n",
              "    </tr>\n",
              "    <tr>\n",
              "      <th>1</th>\n",
              "      <td>removed</td>\n",
              "      <td>removed</td>\n",
              "      <td>L</td>\n",
              "      <td>CC</td>\n",
              "      <td>201001</td>\n",
              "      <td>22678646</td>\n",
              "      <td>4</td>\n",
              "      <td>3</td>\n",
              "      <td>Malignant</td>\n",
              "    </tr>\n",
              "    <tr>\n",
              "      <th>2</th>\n",
              "      <td>removed</td>\n",
              "      <td>removed</td>\n",
              "      <td>R</td>\n",
              "      <td>MLO</td>\n",
              "      <td>201001</td>\n",
              "      <td>22678670</td>\n",
              "      <td>4</td>\n",
              "      <td>1</td>\n",
              "      <td>Normal</td>\n",
              "    </tr>\n",
              "    <tr>\n",
              "      <th>3</th>\n",
              "      <td>removed</td>\n",
              "      <td>removed</td>\n",
              "      <td>L</td>\n",
              "      <td>MLO</td>\n",
              "      <td>201001</td>\n",
              "      <td>22678694</td>\n",
              "      <td>4</td>\n",
              "      <td>3</td>\n",
              "      <td>Malignant</td>\n",
              "    </tr>\n",
              "    <tr>\n",
              "      <th>4</th>\n",
              "      <td>removed</td>\n",
              "      <td>removed</td>\n",
              "      <td>R</td>\n",
              "      <td>CC</td>\n",
              "      <td>201001</td>\n",
              "      <td>22614074</td>\n",
              "      <td>2</td>\n",
              "      <td>5</td>\n",
              "      <td>Malignant</td>\n",
              "    </tr>\n",
              "  </tbody>\n",
              "</table>\n",
              "</div>\n",
              "      <button class=\"colab-df-convert\" onclick=\"convertToInteractive('df-d6b02e26-c649-4454-8921-c8d45db929ff')\"\n",
              "              title=\"Convert this dataframe to an interactive table.\"\n",
              "              style=\"display:none;\">\n",
              "        \n",
              "  <svg xmlns=\"http://www.w3.org/2000/svg\" height=\"24px\"viewBox=\"0 0 24 24\"\n",
              "       width=\"24px\">\n",
              "    <path d=\"M0 0h24v24H0V0z\" fill=\"none\"/>\n",
              "    <path d=\"M18.56 5.44l.94 2.06.94-2.06 2.06-.94-2.06-.94-.94-2.06-.94 2.06-2.06.94zm-11 1L8.5 8.5l.94-2.06 2.06-.94-2.06-.94L8.5 2.5l-.94 2.06-2.06.94zm10 10l.94 2.06.94-2.06 2.06-.94-2.06-.94-.94-2.06-.94 2.06-2.06.94z\"/><path d=\"M17.41 7.96l-1.37-1.37c-.4-.4-.92-.59-1.43-.59-.52 0-1.04.2-1.43.59L10.3 9.45l-7.72 7.72c-.78.78-.78 2.05 0 2.83L4 21.41c.39.39.9.59 1.41.59.51 0 1.02-.2 1.41-.59l7.78-7.78 2.81-2.81c.8-.78.8-2.07 0-2.86zM5.41 20L4 18.59l7.72-7.72 1.47 1.35L5.41 20z\"/>\n",
              "  </svg>\n",
              "      </button>\n",
              "      \n",
              "  <style>\n",
              "    .colab-df-container {\n",
              "      display:flex;\n",
              "      flex-wrap:wrap;\n",
              "      gap: 12px;\n",
              "    }\n",
              "\n",
              "    .colab-df-convert {\n",
              "      background-color: #E8F0FE;\n",
              "      border: none;\n",
              "      border-radius: 50%;\n",
              "      cursor: pointer;\n",
              "      display: none;\n",
              "      fill: #1967D2;\n",
              "      height: 32px;\n",
              "      padding: 0 0 0 0;\n",
              "      width: 32px;\n",
              "    }\n",
              "\n",
              "    .colab-df-convert:hover {\n",
              "      background-color: #E2EBFA;\n",
              "      box-shadow: 0px 1px 2px rgba(60, 64, 67, 0.3), 0px 1px 3px 1px rgba(60, 64, 67, 0.15);\n",
              "      fill: #174EA6;\n",
              "    }\n",
              "\n",
              "    [theme=dark] .colab-df-convert {\n",
              "      background-color: #3B4455;\n",
              "      fill: #D2E3FC;\n",
              "    }\n",
              "\n",
              "    [theme=dark] .colab-df-convert:hover {\n",
              "      background-color: #434B5C;\n",
              "      box-shadow: 0px 1px 3px 1px rgba(0, 0, 0, 0.15);\n",
              "      filter: drop-shadow(0px 1px 2px rgba(0, 0, 0, 0.3));\n",
              "      fill: #FFFFFF;\n",
              "    }\n",
              "  </style>\n",
              "\n",
              "      <script>\n",
              "        const buttonEl =\n",
              "          document.querySelector('#df-d6b02e26-c649-4454-8921-c8d45db929ff button.colab-df-convert');\n",
              "        buttonEl.style.display =\n",
              "          google.colab.kernel.accessAllowed ? 'block' : 'none';\n",
              "\n",
              "        async function convertToInteractive(key) {\n",
              "          const element = document.querySelector('#df-d6b02e26-c649-4454-8921-c8d45db929ff');\n",
              "          const dataTable =\n",
              "            await google.colab.kernel.invokeFunction('convertToInteractive',\n",
              "                                                     [key], {});\n",
              "          if (!dataTable) return;\n",
              "\n",
              "          const docLinkHtml = 'Like what you see? Visit the ' +\n",
              "            '<a target=\"_blank\" href=https://colab.research.google.com/notebooks/data_table.ipynb>data table notebook</a>'\n",
              "            + ' to learn more about interactive tables.';\n",
              "          element.innerHTML = '';\n",
              "          dataTable['output_type'] = 'display_data';\n",
              "          await google.colab.output.renderOutput(dataTable, element);\n",
              "          const docLink = document.createElement('div');\n",
              "          docLink.innerHTML = docLinkHtml;\n",
              "          element.appendChild(docLink);\n",
              "        }\n",
              "      </script>\n",
              "    </div>\n",
              "  </div>\n",
              "  "
            ]
          },
          "metadata": {},
          "execution_count": 18
        }
      ]
    },
    {
      "cell_type": "code",
      "source": [
        "df1 = df[[\"File Name\", \"Severity\"]]\n",
        "df1.head(3)"
      ],
      "metadata": {
        "colab": {
          "base_uri": "https://localhost:8080/",
          "height": 143
        },
        "id": "NOuyHQMR9ZGG",
        "outputId": "d06411d9-c027-4b1b-d2ea-d435f61ff67c"
      },
      "execution_count": null,
      "outputs": [
        {
          "output_type": "execute_result",
          "data": {
            "text/plain": [
              "   File Name   Severity\n",
              "0   22678622     Normal\n",
              "1   22678646  Malignant\n",
              "2   22678670     Normal"
            ],
            "text/html": [
              "\n",
              "  <div id=\"df-912d0533-64b6-4f14-981d-f0890d2d130f\">\n",
              "    <div class=\"colab-df-container\">\n",
              "      <div>\n",
              "<style scoped>\n",
              "    .dataframe tbody tr th:only-of-type {\n",
              "        vertical-align: middle;\n",
              "    }\n",
              "\n",
              "    .dataframe tbody tr th {\n",
              "        vertical-align: top;\n",
              "    }\n",
              "\n",
              "    .dataframe thead th {\n",
              "        text-align: right;\n",
              "    }\n",
              "</style>\n",
              "<table border=\"1\" class=\"dataframe\">\n",
              "  <thead>\n",
              "    <tr style=\"text-align: right;\">\n",
              "      <th></th>\n",
              "      <th>File Name</th>\n",
              "      <th>Severity</th>\n",
              "    </tr>\n",
              "  </thead>\n",
              "  <tbody>\n",
              "    <tr>\n",
              "      <th>0</th>\n",
              "      <td>22678622</td>\n",
              "      <td>Normal</td>\n",
              "    </tr>\n",
              "    <tr>\n",
              "      <th>1</th>\n",
              "      <td>22678646</td>\n",
              "      <td>Malignant</td>\n",
              "    </tr>\n",
              "    <tr>\n",
              "      <th>2</th>\n",
              "      <td>22678670</td>\n",
              "      <td>Normal</td>\n",
              "    </tr>\n",
              "  </tbody>\n",
              "</table>\n",
              "</div>\n",
              "      <button class=\"colab-df-convert\" onclick=\"convertToInteractive('df-912d0533-64b6-4f14-981d-f0890d2d130f')\"\n",
              "              title=\"Convert this dataframe to an interactive table.\"\n",
              "              style=\"display:none;\">\n",
              "        \n",
              "  <svg xmlns=\"http://www.w3.org/2000/svg\" height=\"24px\"viewBox=\"0 0 24 24\"\n",
              "       width=\"24px\">\n",
              "    <path d=\"M0 0h24v24H0V0z\" fill=\"none\"/>\n",
              "    <path d=\"M18.56 5.44l.94 2.06.94-2.06 2.06-.94-2.06-.94-.94-2.06-.94 2.06-2.06.94zm-11 1L8.5 8.5l.94-2.06 2.06-.94-2.06-.94L8.5 2.5l-.94 2.06-2.06.94zm10 10l.94 2.06.94-2.06 2.06-.94-2.06-.94-.94-2.06-.94 2.06-2.06.94z\"/><path d=\"M17.41 7.96l-1.37-1.37c-.4-.4-.92-.59-1.43-.59-.52 0-1.04.2-1.43.59L10.3 9.45l-7.72 7.72c-.78.78-.78 2.05 0 2.83L4 21.41c.39.39.9.59 1.41.59.51 0 1.02-.2 1.41-.59l7.78-7.78 2.81-2.81c.8-.78.8-2.07 0-2.86zM5.41 20L4 18.59l7.72-7.72 1.47 1.35L5.41 20z\"/>\n",
              "  </svg>\n",
              "      </button>\n",
              "      \n",
              "  <style>\n",
              "    .colab-df-container {\n",
              "      display:flex;\n",
              "      flex-wrap:wrap;\n",
              "      gap: 12px;\n",
              "    }\n",
              "\n",
              "    .colab-df-convert {\n",
              "      background-color: #E8F0FE;\n",
              "      border: none;\n",
              "      border-radius: 50%;\n",
              "      cursor: pointer;\n",
              "      display: none;\n",
              "      fill: #1967D2;\n",
              "      height: 32px;\n",
              "      padding: 0 0 0 0;\n",
              "      width: 32px;\n",
              "    }\n",
              "\n",
              "    .colab-df-convert:hover {\n",
              "      background-color: #E2EBFA;\n",
              "      box-shadow: 0px 1px 2px rgba(60, 64, 67, 0.3), 0px 1px 3px 1px rgba(60, 64, 67, 0.15);\n",
              "      fill: #174EA6;\n",
              "    }\n",
              "\n",
              "    [theme=dark] .colab-df-convert {\n",
              "      background-color: #3B4455;\n",
              "      fill: #D2E3FC;\n",
              "    }\n",
              "\n",
              "    [theme=dark] .colab-df-convert:hover {\n",
              "      background-color: #434B5C;\n",
              "      box-shadow: 0px 1px 3px 1px rgba(0, 0, 0, 0.15);\n",
              "      filter: drop-shadow(0px 1px 2px rgba(0, 0, 0, 0.3));\n",
              "      fill: #FFFFFF;\n",
              "    }\n",
              "  </style>\n",
              "\n",
              "      <script>\n",
              "        const buttonEl =\n",
              "          document.querySelector('#df-912d0533-64b6-4f14-981d-f0890d2d130f button.colab-df-convert');\n",
              "        buttonEl.style.display =\n",
              "          google.colab.kernel.accessAllowed ? 'block' : 'none';\n",
              "\n",
              "        async function convertToInteractive(key) {\n",
              "          const element = document.querySelector('#df-912d0533-64b6-4f14-981d-f0890d2d130f');\n",
              "          const dataTable =\n",
              "            await google.colab.kernel.invokeFunction('convertToInteractive',\n",
              "                                                     [key], {});\n",
              "          if (!dataTable) return;\n",
              "\n",
              "          const docLinkHtml = 'Like what you see? Visit the ' +\n",
              "            '<a target=\"_blank\" href=https://colab.research.google.com/notebooks/data_table.ipynb>data table notebook</a>'\n",
              "            + ' to learn more about interactive tables.';\n",
              "          element.innerHTML = '';\n",
              "          dataTable['output_type'] = 'display_data';\n",
              "          await google.colab.output.renderOutput(dataTable, element);\n",
              "          const docLink = document.createElement('div');\n",
              "          docLink.innerHTML = docLinkHtml;\n",
              "          element.appendChild(docLink);\n",
              "        }\n",
              "      </script>\n",
              "    </div>\n",
              "  </div>\n",
              "  "
            ]
          },
          "metadata": {},
          "execution_count": 19
        }
      ]
    },
    {
      "cell_type": "code",
      "source": [
        "df1[\"File Name\"] = df1[\"File Name\"].astype(\"str\")"
      ],
      "metadata": {
        "colab": {
          "base_uri": "https://localhost:8080/"
        },
        "id": "p2maKVt39ZBV",
        "outputId": "c56987dd-7984-40c2-9bd8-878b9dc1a70f"
      },
      "execution_count": null,
      "outputs": [
        {
          "output_type": "stream",
          "name": "stderr",
          "text": [
            "/usr/local/lib/python3.7/dist-packages/ipykernel_launcher.py:1: SettingWithCopyWarning: \n",
            "A value is trying to be set on a copy of a slice from a DataFrame.\n",
            "Try using .loc[row_indexer,col_indexer] = value instead\n",
            "\n",
            "See the caveats in the documentation: https://pandas.pydata.org/pandas-docs/stable/user_guide/indexing.html#returning-a-view-versus-a-copy\n",
            "  \"\"\"Entry point for launching an IPython kernel.\n"
          ]
        }
      ]
    },
    {
      "cell_type": "markdown",
      "source": [
        "### **Creating Directory for each class name and appending images**"
      ],
      "metadata": {
        "id": "owAgnmzoHxgh"
      }
    },
    {
      "cell_type": "code",
      "source": [
        "df_class = df1[df1.Severity != \"Normal\"]"
      ],
      "metadata": {
        "id": "ZHdRRrnSKXfU"
      },
      "execution_count": null,
      "outputs": []
    },
    {
      "cell_type": "code",
      "source": [
        "df_class.head()"
      ],
      "metadata": {
        "colab": {
          "base_uri": "https://localhost:8080/",
          "height": 206
        },
        "id": "MtFN7_mIKaSa",
        "outputId": "a4b76064-9b30-435a-b0d7-f5cc8fb32aef"
      },
      "execution_count": null,
      "outputs": [
        {
          "output_type": "execute_result",
          "data": {
            "text/plain": [
              "  File Name   Severity\n",
              "1  22678646  Malignant\n",
              "3  22678694  Malignant\n",
              "4  22614074  Malignant\n",
              "5  22614097     Benign\n",
              "6  22614127  Malignant"
            ],
            "text/html": [
              "\n",
              "  <div id=\"df-cd53a5fe-1d32-4352-8fb9-5e0c9898c7f1\">\n",
              "    <div class=\"colab-df-container\">\n",
              "      <div>\n",
              "<style scoped>\n",
              "    .dataframe tbody tr th:only-of-type {\n",
              "        vertical-align: middle;\n",
              "    }\n",
              "\n",
              "    .dataframe tbody tr th {\n",
              "        vertical-align: top;\n",
              "    }\n",
              "\n",
              "    .dataframe thead th {\n",
              "        text-align: right;\n",
              "    }\n",
              "</style>\n",
              "<table border=\"1\" class=\"dataframe\">\n",
              "  <thead>\n",
              "    <tr style=\"text-align: right;\">\n",
              "      <th></th>\n",
              "      <th>File Name</th>\n",
              "      <th>Severity</th>\n",
              "    </tr>\n",
              "  </thead>\n",
              "  <tbody>\n",
              "    <tr>\n",
              "      <th>1</th>\n",
              "      <td>22678646</td>\n",
              "      <td>Malignant</td>\n",
              "    </tr>\n",
              "    <tr>\n",
              "      <th>3</th>\n",
              "      <td>22678694</td>\n",
              "      <td>Malignant</td>\n",
              "    </tr>\n",
              "    <tr>\n",
              "      <th>4</th>\n",
              "      <td>22614074</td>\n",
              "      <td>Malignant</td>\n",
              "    </tr>\n",
              "    <tr>\n",
              "      <th>5</th>\n",
              "      <td>22614097</td>\n",
              "      <td>Benign</td>\n",
              "    </tr>\n",
              "    <tr>\n",
              "      <th>6</th>\n",
              "      <td>22614127</td>\n",
              "      <td>Malignant</td>\n",
              "    </tr>\n",
              "  </tbody>\n",
              "</table>\n",
              "</div>\n",
              "      <button class=\"colab-df-convert\" onclick=\"convertToInteractive('df-cd53a5fe-1d32-4352-8fb9-5e0c9898c7f1')\"\n",
              "              title=\"Convert this dataframe to an interactive table.\"\n",
              "              style=\"display:none;\">\n",
              "        \n",
              "  <svg xmlns=\"http://www.w3.org/2000/svg\" height=\"24px\"viewBox=\"0 0 24 24\"\n",
              "       width=\"24px\">\n",
              "    <path d=\"M0 0h24v24H0V0z\" fill=\"none\"/>\n",
              "    <path d=\"M18.56 5.44l.94 2.06.94-2.06 2.06-.94-2.06-.94-.94-2.06-.94 2.06-2.06.94zm-11 1L8.5 8.5l.94-2.06 2.06-.94-2.06-.94L8.5 2.5l-.94 2.06-2.06.94zm10 10l.94 2.06.94-2.06 2.06-.94-2.06-.94-.94-2.06-.94 2.06-2.06.94z\"/><path d=\"M17.41 7.96l-1.37-1.37c-.4-.4-.92-.59-1.43-.59-.52 0-1.04.2-1.43.59L10.3 9.45l-7.72 7.72c-.78.78-.78 2.05 0 2.83L4 21.41c.39.39.9.59 1.41.59.51 0 1.02-.2 1.41-.59l7.78-7.78 2.81-2.81c.8-.78.8-2.07 0-2.86zM5.41 20L4 18.59l7.72-7.72 1.47 1.35L5.41 20z\"/>\n",
              "  </svg>\n",
              "      </button>\n",
              "      \n",
              "  <style>\n",
              "    .colab-df-container {\n",
              "      display:flex;\n",
              "      flex-wrap:wrap;\n",
              "      gap: 12px;\n",
              "    }\n",
              "\n",
              "    .colab-df-convert {\n",
              "      background-color: #E8F0FE;\n",
              "      border: none;\n",
              "      border-radius: 50%;\n",
              "      cursor: pointer;\n",
              "      display: none;\n",
              "      fill: #1967D2;\n",
              "      height: 32px;\n",
              "      padding: 0 0 0 0;\n",
              "      width: 32px;\n",
              "    }\n",
              "\n",
              "    .colab-df-convert:hover {\n",
              "      background-color: #E2EBFA;\n",
              "      box-shadow: 0px 1px 2px rgba(60, 64, 67, 0.3), 0px 1px 3px 1px rgba(60, 64, 67, 0.15);\n",
              "      fill: #174EA6;\n",
              "    }\n",
              "\n",
              "    [theme=dark] .colab-df-convert {\n",
              "      background-color: #3B4455;\n",
              "      fill: #D2E3FC;\n",
              "    }\n",
              "\n",
              "    [theme=dark] .colab-df-convert:hover {\n",
              "      background-color: #434B5C;\n",
              "      box-shadow: 0px 1px 3px 1px rgba(0, 0, 0, 0.15);\n",
              "      filter: drop-shadow(0px 1px 2px rgba(0, 0, 0, 0.3));\n",
              "      fill: #FFFFFF;\n",
              "    }\n",
              "  </style>\n",
              "\n",
              "      <script>\n",
              "        const buttonEl =\n",
              "          document.querySelector('#df-cd53a5fe-1d32-4352-8fb9-5e0c9898c7f1 button.colab-df-convert');\n",
              "        buttonEl.style.display =\n",
              "          google.colab.kernel.accessAllowed ? 'block' : 'none';\n",
              "\n",
              "        async function convertToInteractive(key) {\n",
              "          const element = document.querySelector('#df-cd53a5fe-1d32-4352-8fb9-5e0c9898c7f1');\n",
              "          const dataTable =\n",
              "            await google.colab.kernel.invokeFunction('convertToInteractive',\n",
              "                                                     [key], {});\n",
              "          if (!dataTable) return;\n",
              "\n",
              "          const docLinkHtml = 'Like what you see? Visit the ' +\n",
              "            '<a target=\"_blank\" href=https://colab.research.google.com/notebooks/data_table.ipynb>data table notebook</a>'\n",
              "            + ' to learn more about interactive tables.';\n",
              "          element.innerHTML = '';\n",
              "          dataTable['output_type'] = 'display_data';\n",
              "          await google.colab.output.renderOutput(dataTable, element);\n",
              "          const docLink = document.createElement('div');\n",
              "          docLink.innerHTML = docLinkHtml;\n",
              "          element.appendChild(docLink);\n",
              "        }\n",
              "      </script>\n",
              "    </div>\n",
              "  </div>\n",
              "  "
            ]
          },
          "metadata": {},
          "execution_count": 22
        }
      ]
    },
    {
      "cell_type": "code",
      "source": [
        "labels = df_class\n",
        "dir = r\"/content/drive/MyDrive/INBREAST/INbreastImages/\"\n",
        "target_dir = r\"/content/drive/MyDrive/INBREAST/IMAGE_CLASS/\"\n",
        "\n",
        "for filename, class_name in labels.values:\n",
        "\n",
        "  if not os.path.exists(target_dir + str(class_name)):\n",
        "    os.mkdir(target_dir + str(class_name))\n",
        "  \n",
        "  src_path = dir + \"/\" + filename + \".jpg\"\n",
        "  dst_path = target_dir + str(class_name) + \"/\" + filename + \".jpg\"\n",
        "\n",
        "  try:\n",
        "    shutil.copy(src_path, dst_path)\n",
        "  except IOError as e:\n",
        "    print(f\"Unable to copy file {src_path} to {dst_path}\")\n",
        "  except:\n",
        "    print(f\"When try to copy file {src_path} to {dst_pth}, unexpected error:{sys.exc_info()}\")"
      ],
      "metadata": {
        "id": "AaI_AWYf96-X"
      },
      "execution_count": null,
      "outputs": []
    },
    {
      "cell_type": "code",
      "source": [
        "b = os.listdir(\"/content/drive/MyDrive/INBREAST/IMAGE_CLASS/Benign\")\n",
        "m = os.listdir(\"/content/drive/MyDrive/INBREAST/IMAGE_CLASS/Malignant\")\n",
        "\n",
        "print(f\"Number of images in Benign: {len(b)}\")\n",
        "print(f\"Number of images in Malignant: {len(m)}\")"
      ],
      "metadata": {
        "colab": {
          "base_uri": "https://localhost:8080/"
        },
        "id": "T32DPsq2967W",
        "outputId": "6cc6a164-ce9d-4b34-86d1-6496b5debb66"
      },
      "execution_count": null,
      "outputs": [
        {
          "output_type": "stream",
          "name": "stdout",
          "text": [
            "Number of images in Benign: 220\n",
            "Number of images in Malignant: 123\n"
          ]
        }
      ]
    },
    {
      "cell_type": "code",
      "source": [
        "import subprocess\n",
        "\n",
        "## define your paths\n",
        "path1 = '/content/drive/MyDrive/INBREAST/MASK_CLASS/Benign/'\n",
        "path2 = '/content/drive/MyDrive/INBREAST/MASK_CLASS/Malignant/'\n",
        "\n",
        "## where to place the merged data\n",
        "merged_path = '/content/drive/MyDrive/INBREAST/ALL_IMAGES'\n",
        "\n",
        "## write an rsync commands to merge the directories\n",
        "rsync_cmd = 'rsync' + ' -avzh ' + path1 + ' ' + path2 + ' ' + merged_path\n",
        "\n",
        "## run the rsync command\n",
        "subprocess.run(rsync_cmd, shell=True)"
      ],
      "metadata": {
        "colab": {
          "base_uri": "https://localhost:8080/"
        },
        "id": "m6wbPL3TM-Vi",
        "outputId": "309ec710-89b7-433f-e2f8-70d8049230de"
      },
      "execution_count": null,
      "outputs": [
        {
          "output_type": "execute_result",
          "data": {
            "text/plain": [
              "CompletedProcess(args='rsync -avzh /content/drive/MyDrive/INBREAST/MASK_CLASS/Benign/ /content/drive/MyDrive/INBREAST/MASK_CLASS/Malignant/ /content/drive/MyDrive/INBREAST/ALL_IMAGES', returncode=0)"
            ]
          },
          "metadata": {},
          "execution_count": 26
        }
      ]
    },
    {
      "cell_type": "markdown",
      "source": [
        "### **Converting XML files to Array and then to JPG**"
      ],
      "metadata": {
        "id": "eYtUIda5H3Mx"
      }
    },
    {
      "cell_type": "code",
      "source": [
        "from skimage.draw import polygon\n",
        "import numpy as np\n",
        "import plistlib\n",
        "\n",
        "def load_inbreast_mask(mask_path, imshape=(4084, 3328)):\n",
        "    \"\"\"\n",
        "    This function loads a osirix xml region as a binary numpy array for INBREAST\n",
        "    dataset\n",
        "    @mask_path : Path to the xml file\n",
        "    @imshape : The shape of the image as an array e.g. [4084, 3328]\n",
        "    return: numpy array where positions in the roi are assigned a value of 1.\n",
        "    \"\"\"\n",
        "\n",
        "    mask = np.zeros(imshape)\n",
        "    with open(mask_path, 'rb') as mask_file:\n",
        "        plist_dict = plistlib.load(mask_file, fmt=plistlib.FMT_XML)['Images'][0]\n",
        "        numRois = plist_dict['NumberOfROIs']\n",
        "        rois = plist_dict['ROIs']\n",
        "        assert len(rois) == numRois\n",
        "        for roi in rois:\n",
        "            numPoints = roi['NumberOfPoints']\n",
        "            points = roi['Point_px']\n",
        "            assert numPoints == len(points)\n",
        "            points = [eval(point) for point in points]\n",
        "            if len(points) <= 2:\n",
        "                for point in points:\n",
        "                    mask[int(point[1]), int(point[0])] = 1\n",
        "            else:\n",
        "                x, y = zip(*points)\n",
        "                col, row = np.array(x), np.array(y) ##x coord is the column coord in an image and y is the row\n",
        "                poly_x, poly_y = polygon(row, col, shape=imshape)\n",
        "                mask[poly_x, poly_y] = 1\n",
        "    return mask"
      ],
      "metadata": {
        "id": "ZIObkQHS3G9d"
      },
      "execution_count": null,
      "outputs": []
    },
    {
      "cell_type": "code",
      "source": [
        "xml_img = \"/content/drive/MyDrive/INBREAST/AllXML/\""
      ],
      "metadata": {
        "id": "QNftycNc2Y81"
      },
      "execution_count": null,
      "outputs": []
    },
    {
      "cell_type": "code",
      "source": [
        "for img in os.listdir(xml_img):\n",
        "  img_path = f'/content/drive/MyDrive/INBREAST/AllXML/{img}'\n",
        "  img_id = img.split(\".\")[0]\n",
        "  img_array = load_inbreast_mask(img_path, imshape=(4084, 3328))\n",
        "\n",
        "  final_array_img = Image.fromarray(np.uint8(img_array * 255) , 'L')\n",
        "  plt.imshow(final_array_img )\n",
        "  if os.path.exists(\"/content/drive/MyDrive/INBREAST/MaskImages/\"):\n",
        "    break\n",
        "  else:\n",
        "    os.mkdir(\"/content/drive/MyDrive/INBREAST/MaskImages/\")\n",
        "    final_array_img.save(f\"/content/drive/MyDrive/INBREAST/MaskImages/{img_id}.jpg\")"
      ],
      "metadata": {
        "colab": {
          "base_uri": "https://localhost:8080/",
          "height": 269
        },
        "id": "kJzwtvPx2oPP",
        "outputId": "c7170cfe-4681-4fab-b642-0136e7073fc4"
      },
      "execution_count": null,
      "outputs": [
        {
          "output_type": "display_data",
          "data": {
            "text/plain": [
              "<Figure size 432x288 with 1 Axes>"
            ],
            "image/png": "[encoded data removed]"
          },
          "metadata": {
            "needs_background": "light"
          }
        }
      ]
    },
    {
      "cell_type": "code",
      "source": [
        "df1.head()"
      ],
      "metadata": {
        "colab": {
          "base_uri": "https://localhost:8080/",
          "height": 206
        },
        "id": "q_j6cFCOIpn_",
        "outputId": "b67a8593-f3bc-4499-c018-e3f6b38f021e"
      },
      "execution_count": null,
      "outputs": [
        {
          "output_type": "execute_result",
          "data": {
            "text/plain": [
              "  File Name   Severity\n",
              "0  22678622     Normal\n",
              "1  22678646  Malignant\n",
              "2  22678670     Normal\n",
              "3  22678694  Malignant\n",
              "4  22614074  Malignant"
            ],
            "text/html": [
              "\n",
              "  <div id=\"df-a257b539-9d99-4eea-a210-34293a652ea4\">\n",
              "    <div class=\"colab-df-container\">\n",
              "      <div>\n",
              "<style scoped>\n",
              "    .dataframe tbody tr th:only-of-type {\n",
              "        vertical-align: middle;\n",
              "    }\n",
              "\n",
              "    .dataframe tbody tr th {\n",
              "        vertical-align: top;\n",
              "    }\n",
              "\n",
              "    .dataframe thead th {\n",
              "        text-align: right;\n",
              "    }\n",
              "</style>\n",
              "<table border=\"1\" class=\"dataframe\">\n",
              "  <thead>\n",
              "    <tr style=\"text-align: right;\">\n",
              "      <th></th>\n",
              "      <th>File Name</th>\n",
              "      <th>Severity</th>\n",
              "    </tr>\n",
              "  </thead>\n",
              "  <tbody>\n",
              "    <tr>\n",
              "      <th>0</th>\n",
              "      <td>22678622</td>\n",
              "      <td>Normal</td>\n",
              "    </tr>\n",
              "    <tr>\n",
              "      <th>1</th>\n",
              "      <td>22678646</td>\n",
              "      <td>Malignant</td>\n",
              "    </tr>\n",
              "    <tr>\n",
              "      <th>2</th>\n",
              "      <td>22678670</td>\n",
              "      <td>Normal</td>\n",
              "    </tr>\n",
              "    <tr>\n",
              "      <th>3</th>\n",
              "      <td>22678694</td>\n",
              "      <td>Malignant</td>\n",
              "    </tr>\n",
              "    <tr>\n",
              "      <th>4</th>\n",
              "      <td>22614074</td>\n",
              "      <td>Malignant</td>\n",
              "    </tr>\n",
              "  </tbody>\n",
              "</table>\n",
              "</div>\n",
              "      <button class=\"colab-df-convert\" onclick=\"convertToInteractive('df-a257b539-9d99-4eea-a210-34293a652ea4')\"\n",
              "              title=\"Convert this dataframe to an interactive table.\"\n",
              "              style=\"display:none;\">\n",
              "        \n",
              "  <svg xmlns=\"http://www.w3.org/2000/svg\" height=\"24px\"viewBox=\"0 0 24 24\"\n",
              "       width=\"24px\">\n",
              "    <path d=\"M0 0h24v24H0V0z\" fill=\"none\"/>\n",
              "    <path d=\"M18.56 5.44l.94 2.06.94-2.06 2.06-.94-2.06-.94-.94-2.06-.94 2.06-2.06.94zm-11 1L8.5 8.5l.94-2.06 2.06-.94-2.06-.94L8.5 2.5l-.94 2.06-2.06.94zm10 10l.94 2.06.94-2.06 2.06-.94-2.06-.94-.94-2.06-.94 2.06-2.06.94z\"/><path d=\"M17.41 7.96l-1.37-1.37c-.4-.4-.92-.59-1.43-.59-.52 0-1.04.2-1.43.59L10.3 9.45l-7.72 7.72c-.78.78-.78 2.05 0 2.83L4 21.41c.39.39.9.59 1.41.59.51 0 1.02-.2 1.41-.59l7.78-7.78 2.81-2.81c.8-.78.8-2.07 0-2.86zM5.41 20L4 18.59l7.72-7.72 1.47 1.35L5.41 20z\"/>\n",
              "  </svg>\n",
              "      </button>\n",
              "      \n",
              "  <style>\n",
              "    .colab-df-container {\n",
              "      display:flex;\n",
              "      flex-wrap:wrap;\n",
              "      gap: 12px;\n",
              "    }\n",
              "\n",
              "    .colab-df-convert {\n",
              "      background-color: #E8F0FE;\n",
              "      border: none;\n",
              "      border-radius: 50%;\n",
              "      cursor: pointer;\n",
              "      display: none;\n",
              "      fill: #1967D2;\n",
              "      height: 32px;\n",
              "      padding: 0 0 0 0;\n",
              "      width: 32px;\n",
              "    }\n",
              "\n",
              "    .colab-df-convert:hover {\n",
              "      background-color: #E2EBFA;\n",
              "      box-shadow: 0px 1px 2px rgba(60, 64, 67, 0.3), 0px 1px 3px 1px rgba(60, 64, 67, 0.15);\n",
              "      fill: #174EA6;\n",
              "    }\n",
              "\n",
              "    [theme=dark] .colab-df-convert {\n",
              "      background-color: #3B4455;\n",
              "      fill: #D2E3FC;\n",
              "    }\n",
              "\n",
              "    [theme=dark] .colab-df-convert:hover {\n",
              "      background-color: #434B5C;\n",
              "      box-shadow: 0px 1px 3px 1px rgba(0, 0, 0, 0.15);\n",
              "      filter: drop-shadow(0px 1px 2px rgba(0, 0, 0, 0.3));\n",
              "      fill: #FFFFFF;\n",
              "    }\n",
              "  </style>\n",
              "\n",
              "      <script>\n",
              "        const buttonEl =\n",
              "          document.querySelector('#df-a257b539-9d99-4eea-a210-34293a652ea4 button.colab-df-convert');\n",
              "        buttonEl.style.display =\n",
              "          google.colab.kernel.accessAllowed ? 'block' : 'none';\n",
              "\n",
              "        async function convertToInteractive(key) {\n",
              "          const element = document.querySelector('#df-a257b539-9d99-4eea-a210-34293a652ea4');\n",
              "          const dataTable =\n",
              "            await google.colab.kernel.invokeFunction('convertToInteractive',\n",
              "                                                     [key], {});\n",
              "          if (!dataTable) return;\n",
              "\n",
              "          const docLinkHtml = 'Like what you see? Visit the ' +\n",
              "            '<a target=\"_blank\" href=https://colab.research.google.com/notebooks/data_table.ipynb>data table notebook</a>'\n",
              "            + ' to learn more about interactive tables.';\n",
              "          element.innerHTML = '';\n",
              "          dataTable['output_type'] = 'display_data';\n",
              "          await google.colab.output.renderOutput(dataTable, element);\n",
              "          const docLink = document.createElement('div');\n",
              "          docLink.innerHTML = docLinkHtml;\n",
              "          element.appendChild(docLink);\n",
              "        }\n",
              "      </script>\n",
              "    </div>\n",
              "  </div>\n",
              "  "
            ]
          },
          "metadata": {},
          "execution_count": 30
        }
      ]
    },
    {
      "cell_type": "code",
      "source": [
        "df_mask = df1[df1.Severity != \"Normal\"]"
      ],
      "metadata": {
        "id": "euP3HOR8I2se"
      },
      "execution_count": null,
      "outputs": []
    },
    {
      "cell_type": "code",
      "source": [
        "df_mask.head()"
      ],
      "metadata": {
        "colab": {
          "base_uri": "https://localhost:8080/",
          "height": 206
        },
        "id": "-vW58noLJyf2",
        "outputId": "7c0c47cc-6560-4a42-8e5a-500525e37013"
      },
      "execution_count": null,
      "outputs": [
        {
          "output_type": "execute_result",
          "data": {
            "text/plain": [
              "  File Name   Severity\n",
              "1  22678646  Malignant\n",
              "3  22678694  Malignant\n",
              "4  22614074  Malignant\n",
              "5  22614097     Benign\n",
              "6  22614127  Malignant"
            ],
            "text/html": [
              "\n",
              "  <div id=\"df-07212f0d-ef8a-408c-b480-a95b9ece4873\">\n",
              "    <div class=\"colab-df-container\">\n",
              "      <div>\n",
              "<style scoped>\n",
              "    .dataframe tbody tr th:only-of-type {\n",
              "        vertical-align: middle;\n",
              "    }\n",
              "\n",
              "    .dataframe tbody tr th {\n",
              "        vertical-align: top;\n",
              "    }\n",
              "\n",
              "    .dataframe thead th {\n",
              "        text-align: right;\n",
              "    }\n",
              "</style>\n",
              "<table border=\"1\" class=\"dataframe\">\n",
              "  <thead>\n",
              "    <tr style=\"text-align: right;\">\n",
              "      <th></th>\n",
              "      <th>File Name</th>\n",
              "      <th>Severity</th>\n",
              "    </tr>\n",
              "  </thead>\n",
              "  <tbody>\n",
              "    <tr>\n",
              "      <th>1</th>\n",
              "      <td>22678646</td>\n",
              "      <td>Malignant</td>\n",
              "    </tr>\n",
              "    <tr>\n",
              "      <th>3</th>\n",
              "      <td>22678694</td>\n",
              "      <td>Malignant</td>\n",
              "    </tr>\n",
              "    <tr>\n",
              "      <th>4</th>\n",
              "      <td>22614074</td>\n",
              "      <td>Malignant</td>\n",
              "    </tr>\n",
              "    <tr>\n",
              "      <th>5</th>\n",
              "      <td>22614097</td>\n",
              "      <td>Benign</td>\n",
              "    </tr>\n",
              "    <tr>\n",
              "      <th>6</th>\n",
              "      <td>22614127</td>\n",
              "      <td>Malignant</td>\n",
              "    </tr>\n",
              "  </tbody>\n",
              "</table>\n",
              "</div>\n",
              "      <button class=\"colab-df-convert\" onclick=\"convertToInteractive('df-07212f0d-ef8a-408c-b480-a95b9ece4873')\"\n",
              "              title=\"Convert this dataframe to an interactive table.\"\n",
              "              style=\"display:none;\">\n",
              "        \n",
              "  <svg xmlns=\"http://www.w3.org/2000/svg\" height=\"24px\"viewBox=\"0 0 24 24\"\n",
              "       width=\"24px\">\n",
              "    <path d=\"M0 0h24v24H0V0z\" fill=\"none\"/>\n",
              "    <path d=\"M18.56 5.44l.94 2.06.94-2.06 2.06-.94-2.06-.94-.94-2.06-.94 2.06-2.06.94zm-11 1L8.5 8.5l.94-2.06 2.06-.94-2.06-.94L8.5 2.5l-.94 2.06-2.06.94zm10 10l.94 2.06.94-2.06 2.06-.94-2.06-.94-.94-2.06-.94 2.06-2.06.94z\"/><path d=\"M17.41 7.96l-1.37-1.37c-.4-.4-.92-.59-1.43-.59-.52 0-1.04.2-1.43.59L10.3 9.45l-7.72 7.72c-.78.78-.78 2.05 0 2.83L4 21.41c.39.39.9.59 1.41.59.51 0 1.02-.2 1.41-.59l7.78-7.78 2.81-2.81c.8-.78.8-2.07 0-2.86zM5.41 20L4 18.59l7.72-7.72 1.47 1.35L5.41 20z\"/>\n",
              "  </svg>\n",
              "      </button>\n",
              "      \n",
              "  <style>\n",
              "    .colab-df-container {\n",
              "      display:flex;\n",
              "      flex-wrap:wrap;\n",
              "      gap: 12px;\n",
              "    }\n",
              "\n",
              "    .colab-df-convert {\n",
              "      background-color: #E8F0FE;\n",
              "      border: none;\n",
              "      border-radius: 50%;\n",
              "      cursor: pointer;\n",
              "      display: none;\n",
              "      fill: #1967D2;\n",
              "      height: 32px;\n",
              "      padding: 0 0 0 0;\n",
              "      width: 32px;\n",
              "    }\n",
              "\n",
              "    .colab-df-convert:hover {\n",
              "      background-color: #E2EBFA;\n",
              "      box-shadow: 0px 1px 2px rgba(60, 64, 67, 0.3), 0px 1px 3px 1px rgba(60, 64, 67, 0.15);\n",
              "      fill: #174EA6;\n",
              "    }\n",
              "\n",
              "    [theme=dark] .colab-df-convert {\n",
              "      background-color: #3B4455;\n",
              "      fill: #D2E3FC;\n",
              "    }\n",
              "\n",
              "    [theme=dark] .colab-df-convert:hover {\n",
              "      background-color: #434B5C;\n",
              "      box-shadow: 0px 1px 3px 1px rgba(0, 0, 0, 0.15);\n",
              "      filter: drop-shadow(0px 1px 2px rgba(0, 0, 0, 0.3));\n",
              "      fill: #FFFFFF;\n",
              "    }\n",
              "  </style>\n",
              "\n",
              "      <script>\n",
              "        const buttonEl =\n",
              "          document.querySelector('#df-07212f0d-ef8a-408c-b480-a95b9ece4873 button.colab-df-convert');\n",
              "        buttonEl.style.display =\n",
              "          google.colab.kernel.accessAllowed ? 'block' : 'none';\n",
              "\n",
              "        async function convertToInteractive(key) {\n",
              "          const element = document.querySelector('#df-07212f0d-ef8a-408c-b480-a95b9ece4873');\n",
              "          const dataTable =\n",
              "            await google.colab.kernel.invokeFunction('convertToInteractive',\n",
              "                                                     [key], {});\n",
              "          if (!dataTable) return;\n",
              "\n",
              "          const docLinkHtml = 'Like what you see? Visit the ' +\n",
              "            '<a target=\"_blank\" href=https://colab.research.google.com/notebooks/data_table.ipynb>data table notebook</a>'\n",
              "            + ' to learn more about interactive tables.';\n",
              "          element.innerHTML = '';\n",
              "          dataTable['output_type'] = 'display_data';\n",
              "          await google.colab.output.renderOutput(dataTable, element);\n",
              "          const docLink = document.createElement('div');\n",
              "          docLink.innerHTML = docLinkHtml;\n",
              "          element.appendChild(docLink);\n",
              "        }\n",
              "      </script>\n",
              "    </div>\n",
              "  </div>\n",
              "  "
            ]
          },
          "metadata": {},
          "execution_count": 32
        }
      ]
    },
    {
      "cell_type": "code",
      "source": [
        "labels = df_mask\n",
        "dir = r\"/content/drive/MyDrive/INBREAST/MaskImages/\"\n",
        "target_dir = r\"/content/drive/MyDrive/INBREAST/MASK_CLASS/\"\n",
        "\n",
        "for filename, class_name in labels.values:\n",
        "\n",
        "  if not os.path.exists(target_dir + str(class_name)):\n",
        "    os.mkdir(target_dir + str(class_name))\n",
        "  \n",
        "  src_path = dir + \"/\" + filename + \".jpg\"\n",
        "  dst_path = target_dir + str(class_name) + \"/\" + filename + \".jpg\"\n",
        "\n",
        "  try:\n",
        "    shutil.copy(src_path, dst_path)\n",
        "  except IOError as e:\n",
        "    print(f\"Unable to copy file {src_path} to {dst_path}\")\n",
        "  except:\n",
        "    print(f\"When try to copy file {src_path} to {dst_pth}, unexpected error:{sys.exc_info()}\")"
      ],
      "metadata": {
        "id": "r4R2zXlUIjAP"
      },
      "execution_count": null,
      "outputs": []
    },
    {
      "cell_type": "code",
      "source": [
        "import subprocess\n",
        "\n",
        "## define your paths\n",
        "path1 = '/content/drive/MyDrive/INBREAST/MASK_CLASS/Benign/'\n",
        "path2 = '/content/drive/MyDrive/INBREAST/MASK_CLASS/Malignant/'\n",
        "\n",
        "## where to place the merged data\n",
        "merged_path = '/content/drive/MyDrive/INBREAST/ALL_MASK'\n",
        "\n",
        "## write an rsync commands to merge the directories\n",
        "rsync_cmd = 'rsync' + ' -avzh ' + path1 + ' ' + path2 + ' ' + merged_path\n",
        "\n",
        "## run the rsync command\n",
        "subprocess.run(rsync_cmd, shell=True)"
      ],
      "metadata": {
        "colab": {
          "base_uri": "https://localhost:8080/"
        },
        "id": "tsIBO-cEMXXS",
        "outputId": "36883636-c53f-43e1-e55f-8d947459ec44"
      },
      "execution_count": null,
      "outputs": [
        {
          "output_type": "execute_result",
          "data": {
            "text/plain": [
              "CompletedProcess(args='rsync -avzh /content/drive/MyDrive/INBREAST/MASK_CLASS/Benign/ /content/drive/MyDrive/INBREAST/MASK_CLASS/Malignant/ /content/drive/MyDrive/INBREAST/ALL_MASK', returncode=0)"
            ]
          },
          "metadata": {},
          "execution_count": 34
        }
      ]
    },
    {
      "cell_type": "code",
      "source": [
        "%%capture\n",
        "!pip3 install tensorflow==2.2\n",
        "!pip3 install keras==2.3.1\n",
        "!pip3 install -U segmentation-models"
      ],
      "metadata": {
        "id": "su91djz77bRi"
      },
      "execution_count": null,
      "outputs": []
    },
    {
      "cell_type": "code",
      "source": [
        "import tensorflow as tf\n",
        "import segmentation_models as sm\n",
        "import glob\n",
        "import cv2\n",
        "import os\n",
        "import numpy as np\n",
        "from matplotlib import pyplot as plt\n",
        "\n",
        "BACKBONE = 'resnet34'\n",
        "preprocess_input = sm.get_preprocessing(BACKBONE)"
      ],
      "metadata": {
        "id": "3NoQvTsq69Zb"
      },
      "execution_count": null,
      "outputs": []
    },
    {
      "cell_type": "code",
      "source": [
        "SIZE_Y = 256\n",
        "SIZE_X = 256"
      ],
      "metadata": {
        "id": "J7tqFu7QD3hU"
      },
      "execution_count": null,
      "outputs": []
    },
    {
      "cell_type": "code",
      "source": [
        "img_dir = os.listdir(\"/content/drive/MyDrive/INBREAST/ALL_IMAGES/\")\n",
        "train_images = []\n",
        "for index,img_id in enumerate(img_dir):\n",
        "  img_path = f\"/content/drive/MyDrive/INBREAST/ALL_IMAGES/{img_id}\"\n",
        "  img = cv2.imread(img_path, cv2.IMREAD_COLOR) \n",
        "  img = cv2.resize(img, (SIZE_Y, SIZE_X))\n",
        "  #img = cv2.cvtColor(img, cv2.COLOR_RGB2BGR)\n",
        "  train_images.append(img)\n",
        "  if index == 149:\n",
        "    break"
      ],
      "metadata": {
        "id": "qCQeuceR7oV9"
      },
      "execution_count": null,
      "outputs": []
    },
    {
      "cell_type": "code",
      "source": [
        "train_images = np.array(train_images)"
      ],
      "metadata": {
        "id": "t_WTDZwjD9Nn"
      },
      "execution_count": null,
      "outputs": []
    },
    {
      "cell_type": "code",
      "source": [
        "mask_dir = os.listdir(\"/content/drive/MyDrive/INBREAST/ALL_MASK/\")\n",
        "train_masks = []\n",
        "for index,img_id in enumerate(mask_dir):\n",
        "  mask_path = f\"/content/drive/MyDrive/INBREAST/ALL_MASK/{img_id}\"\n",
        "  mask = cv2.imread(mask_path, 0)       \n",
        "  mask = cv2.resize(mask, (SIZE_Y, SIZE_X))\n",
        "  mask = cv2.cvtColor(mask, cv2.COLOR_RGB2BGR)\n",
        "  train_masks.append(mask)\n",
        "  if index == 149:\n",
        "    break"
      ],
      "metadata": {
        "id": "MTTxNbJF70-3"
      },
      "execution_count": null,
      "outputs": []
    },
    {
      "cell_type": "code",
      "source": [
        "train_masks = np.array(train_masks)"
      ],
      "metadata": {
        "id": "Xk1yjDlYEG4X"
      },
      "execution_count": null,
      "outputs": []
    },
    {
      "cell_type": "code",
      "source": [
        "train_images.shape"
      ],
      "metadata": {
        "colab": {
          "base_uri": "https://localhost:8080/"
        },
        "id": "I2P4gNi8EJqD",
        "outputId": "e000ad50-606c-4bda-f998-845e00097116"
      },
      "execution_count": null,
      "outputs": [
        {
          "output_type": "execute_result",
          "data": {
            "text/plain": [
              "(150, 256, 256, 3)"
            ]
          },
          "metadata": {},
          "execution_count": 38
        }
      ]
    },
    {
      "cell_type": "code",
      "source": [
        "train_masks.shape"
      ],
      "metadata": {
        "colab": {
          "base_uri": "https://localhost:8080/"
        },
        "id": "2HYXvUOzELsH",
        "outputId": "119b2560-75ef-4c75-8e50-8af88e6c37e8"
      },
      "execution_count": null,
      "outputs": [
        {
          "output_type": "execute_result",
          "data": {
            "text/plain": [
              "(150, 256, 256, 3)"
            ]
          },
          "metadata": {},
          "execution_count": 39
        }
      ]
    },
    {
      "cell_type": "code",
      "source": [
        "#Use customary x_train and y_train variables\n",
        "X = train_images\n",
        "Y = train_masks"
      ],
      "metadata": {
        "id": "zRvnV3z379Md"
      },
      "execution_count": null,
      "outputs": []
    },
    {
      "cell_type": "code",
      "source": [
        "from sklearn.model_selection import train_test_split\n",
        "x_train, x_val, y_train, y_val = train_test_split(X, Y, test_size=0.2, random_state=42)\n",
        "\n",
        "# preprocess input\n",
        "x_train = preprocess_input(x_train)\n",
        "x_val = preprocess_input(x_val)"
      ],
      "metadata": {
        "id": "KQf_5c3bE3_-"
      },
      "execution_count": null,
      "outputs": []
    },
    {
      "cell_type": "code",
      "source": [
        "from keras.models import Model\n",
        "from keras.layers import Input, Conv2D, MaxPooling2D, UpSampling2D, concatenate, Conv2DTranspose, BatchNormalization, Dropout, Lambda"
      ],
      "metadata": {
        "id": "tC2k8AVI7_ft"
      },
      "execution_count": null,
      "outputs": []
    },
    {
      "cell_type": "code",
      "source": [
        "IMG_HEIGHT = 256\n",
        "IMG_WIDTH = 256\n",
        "IMG_CHANNELS = 3"
      ],
      "metadata": {
        "id": "CIdezbVA8CX_"
      },
      "execution_count": null,
      "outputs": []
    },
    {
      "cell_type": "code",
      "source": [
        "\n",
        "inputs = Input((IMG_HEIGHT, IMG_WIDTH, IMG_CHANNELS))\n",
        "#s = Lambda(lambda x: x / 255)(inputs)   #No need for this if we normalize our inputs beforehand\n",
        "s = inputs\n",
        "\n",
        "#Contraction path\n",
        "c1 = Conv2D(16, (3, 3), activation='relu', kernel_initializer='he_normal', padding='same')(s)\n",
        "c1 = Dropout(0.1)(c1)\n",
        "c1 = Conv2D(16, (3, 3), activation='relu', kernel_initializer='he_normal', padding='same')(c1)\n",
        "p1 = MaxPooling2D((2, 2))(c1)\n",
        "\n",
        "c2 = Conv2D(32, (3, 3), activation='relu', kernel_initializer='he_normal', padding='same')(p1)\n",
        "c2 = Dropout(0.1)(c2)\n",
        "c2 = Conv2D(32, (3, 3), activation='relu', kernel_initializer='he_normal', padding='same')(c2)\n",
        "p2 = MaxPooling2D((2, 2))(c2)\n",
        "  \n",
        "c3 = Conv2D(64, (3, 3), activation='relu', kernel_initializer='he_normal', padding='same')(p2)\n",
        "c3 = Dropout(0.2)(c3)\n",
        "c3 = Conv2D(64, (3, 3), activation='relu', kernel_initializer='he_normal', padding='same')(c3)\n",
        "p3 = MaxPooling2D((2, 2))(c3)\n",
        "  \n",
        "c4 = Conv2D(128, (3, 3), activation='relu', kernel_initializer='he_normal', padding='same')(p3)\n",
        "c4 = Dropout(0.2)(c4)\n",
        "c4 = Conv2D(128, (3, 3), activation='relu', kernel_initializer='he_normal', padding='same')(c4)\n",
        "p4 = MaxPooling2D(pool_size=(2, 2))(c4)\n",
        "  \n",
        "c5 = Conv2D(256, (3, 3), activation='relu', kernel_initializer='he_normal', padding='same')(p4)\n",
        "c5 = Dropout(0.3)(c5)\n",
        "c5 = Conv2D(256, (3, 3), activation='relu', kernel_initializer='he_normal', padding='same')(c5)\n",
        "\n",
        "#Expansive path \n",
        "u6 = Conv2DTranspose(128, (2, 2), strides=(2, 2), padding='same')(c5)\n",
        "u6 = concatenate([u6, c4])\n",
        "c6 = Conv2D(128, (3, 3), activation='relu', kernel_initializer='he_normal', padding='same')(u6)\n",
        "c6 = Dropout(0.2)(c6)\n",
        "c6 = Conv2D(128, (3, 3), activation='relu', kernel_initializer='he_normal', padding='same')(c6)\n",
        "  \n",
        "u7 = Conv2DTranspose(64, (2, 2), strides=(2, 2), padding='same')(c6)\n",
        "u7 = concatenate([u7, c3])\n",
        "c7 = Conv2D(64, (3, 3), activation='relu', kernel_initializer='he_normal', padding='same')(u7)\n",
        "c7 = Dropout(0.2)(c7)\n",
        "c7 = Conv2D(64, (3, 3), activation='relu', kernel_initializer='he_normal', padding='same')(c7)\n",
        "  \n",
        "u8 = Conv2DTranspose(32, (2, 2), strides=(2, 2), padding='same')(c7)\n",
        "u8 = concatenate([u8, c2])\n",
        "c8 = Conv2D(32, (3, 3), activation='relu', kernel_initializer='he_normal', padding='same')(u8)\n",
        "c8 = Dropout(0.1)(c8)\n",
        "c8 = Conv2D(32, (3, 3), activation='relu', kernel_initializer='he_normal', padding='same')(c8)\n",
        "  \n",
        "u9 = Conv2DTranspose(16, (2, 2), strides=(2, 2), padding='same')(c8)\n",
        "u9 = concatenate([u9, c1], axis=3)\n",
        "c9 = Conv2D(16, (3, 3), activation='relu', kernel_initializer='he_normal', padding='same')(u9)\n",
        "c9 = Dropout(0.1)(c9)\n",
        "c9 = Conv2D(16, (3, 3), activation='relu', kernel_initializer='he_normal', padding='same')(c9)\n",
        "  \n",
        "outputs = Conv2D(3, (1, 1), activation='sigmoid')(c9)\n",
        "  \n",
        "model = Model(inputs=[inputs], outputs=[outputs])\n",
        "model.compile(optimizer='adam', loss='binary_crossentropy', metrics=['accuracy'])\n",
        "model.summary()"
      ],
      "metadata": {
        "colab": {
          "base_uri": "https://localhost:8080/"
        },
        "id": "zkTiuwfLEZtY",
        "outputId": "8f1c6ec0-5301-4e8c-c9c9-bf156cbd542e"
      },
      "execution_count": null,
      "outputs": [
        {
          "output_type": "stream",
          "name": "stdout",
          "text": [
            "Model: \"model_3\"\n",
            "__________________________________________________________________________________________________\n",
            "Layer (type)                    Output Shape         Param #     Connected to                     \n",
            "==================================================================================================\n",
            "input_3 (InputLayer)            (None, 256, 256, 3)  0                                            \n",
            "__________________________________________________________________________________________________\n",
            "conv2d_39 (Conv2D)              (None, 256, 256, 16) 448         input_3[0][0]                    \n",
            "__________________________________________________________________________________________________\n",
            "dropout_19 (Dropout)            (None, 256, 256, 16) 0           conv2d_39[0][0]                  \n",
            "__________________________________________________________________________________________________\n",
            "conv2d_40 (Conv2D)              (None, 256, 256, 16) 2320        dropout_19[0][0]                 \n",
            "__________________________________________________________________________________________________\n",
            "max_pooling2d_9 (MaxPooling2D)  (None, 128, 128, 16) 0           conv2d_40[0][0]                  \n",
            "__________________________________________________________________________________________________\n",
            "conv2d_41 (Conv2D)              (None, 128, 128, 32) 4640        max_pooling2d_9[0][0]            \n",
            "__________________________________________________________________________________________________\n",
            "dropout_20 (Dropout)            (None, 128, 128, 32) 0           conv2d_41[0][0]                  \n",
            "__________________________________________________________________________________________________\n",
            "conv2d_42 (Conv2D)              (None, 128, 128, 32) 9248        dropout_20[0][0]                 \n",
            "__________________________________________________________________________________________________\n",
            "max_pooling2d_10 (MaxPooling2D) (None, 64, 64, 32)   0           conv2d_42[0][0]                  \n",
            "__________________________________________________________________________________________________\n",
            "conv2d_43 (Conv2D)              (None, 64, 64, 64)   18496       max_pooling2d_10[0][0]           \n",
            "__________________________________________________________________________________________________\n",
            "dropout_21 (Dropout)            (None, 64, 64, 64)   0           conv2d_43[0][0]                  \n",
            "__________________________________________________________________________________________________\n",
            "conv2d_44 (Conv2D)              (None, 64, 64, 64)   36928       dropout_21[0][0]                 \n",
            "__________________________________________________________________________________________________\n",
            "max_pooling2d_11 (MaxPooling2D) (None, 32, 32, 64)   0           conv2d_44[0][0]                  \n",
            "__________________________________________________________________________________________________\n",
            "conv2d_45 (Conv2D)              (None, 32, 32, 128)  73856       max_pooling2d_11[0][0]           \n",
            "__________________________________________________________________________________________________\n",
            "dropout_22 (Dropout)            (None, 32, 32, 128)  0           conv2d_45[0][0]                  \n",
            "__________________________________________________________________________________________________\n",
            "conv2d_46 (Conv2D)              (None, 32, 32, 128)  147584      dropout_22[0][0]                 \n",
            "__________________________________________________________________________________________________\n",
            "max_pooling2d_12 (MaxPooling2D) (None, 16, 16, 128)  0           conv2d_46[0][0]                  \n",
            "__________________________________________________________________________________________________\n",
            "conv2d_47 (Conv2D)              (None, 16, 16, 256)  295168      max_pooling2d_12[0][0]           \n",
            "__________________________________________________________________________________________________\n",
            "dropout_23 (Dropout)            (None, 16, 16, 256)  0           conv2d_47[0][0]                  \n",
            "__________________________________________________________________________________________________\n",
            "conv2d_48 (Conv2D)              (None, 16, 16, 256)  590080      dropout_23[0][0]                 \n",
            "__________________________________________________________________________________________________\n",
            "conv2d_transpose_9 (Conv2DTrans (None, 32, 32, 128)  131200      conv2d_48[0][0]                  \n",
            "__________________________________________________________________________________________________\n",
            "concatenate_9 (Concatenate)     (None, 32, 32, 256)  0           conv2d_transpose_9[0][0]         \n",
            "                                                                 conv2d_46[0][0]                  \n",
            "__________________________________________________________________________________________________\n",
            "conv2d_49 (Conv2D)              (None, 32, 32, 128)  295040      concatenate_9[0][0]              \n",
            "__________________________________________________________________________________________________\n",
            "dropout_24 (Dropout)            (None, 32, 32, 128)  0           conv2d_49[0][0]                  \n",
            "__________________________________________________________________________________________________\n",
            "conv2d_50 (Conv2D)              (None, 32, 32, 128)  147584      dropout_24[0][0]                 \n",
            "__________________________________________________________________________________________________\n",
            "conv2d_transpose_10 (Conv2DTran (None, 64, 64, 64)   32832       conv2d_50[0][0]                  \n",
            "__________________________________________________________________________________________________\n",
            "concatenate_10 (Concatenate)    (None, 64, 64, 128)  0           conv2d_transpose_10[0][0]        \n",
            "                                                                 conv2d_44[0][0]                  \n",
            "__________________________________________________________________________________________________\n",
            "conv2d_51 (Conv2D)              (None, 64, 64, 64)   73792       concatenate_10[0][0]             \n",
            "__________________________________________________________________________________________________\n",
            "dropout_25 (Dropout)            (None, 64, 64, 64)   0           conv2d_51[0][0]                  \n",
            "__________________________________________________________________________________________________\n",
            "conv2d_52 (Conv2D)              (None, 64, 64, 64)   36928       dropout_25[0][0]                 \n",
            "__________________________________________________________________________________________________\n",
            "conv2d_transpose_11 (Conv2DTran (None, 128, 128, 32) 8224        conv2d_52[0][0]                  \n",
            "__________________________________________________________________________________________________\n",
            "concatenate_11 (Concatenate)    (None, 128, 128, 64) 0           conv2d_transpose_11[0][0]        \n",
            "                                                                 conv2d_42[0][0]                  \n",
            "__________________________________________________________________________________________________\n",
            "conv2d_53 (Conv2D)              (None, 128, 128, 32) 18464       concatenate_11[0][0]             \n",
            "__________________________________________________________________________________________________\n",
            "dropout_26 (Dropout)            (None, 128, 128, 32) 0           conv2d_53[0][0]                  \n",
            "__________________________________________________________________________________________________\n",
            "conv2d_54 (Conv2D)              (None, 128, 128, 32) 9248        dropout_26[0][0]                 \n",
            "__________________________________________________________________________________________________\n",
            "conv2d_transpose_12 (Conv2DTran (None, 256, 256, 16) 2064        conv2d_54[0][0]                  \n",
            "__________________________________________________________________________________________________\n",
            "concatenate_12 (Concatenate)    (None, 256, 256, 32) 0           conv2d_transpose_12[0][0]        \n",
            "                                                                 conv2d_40[0][0]                  \n",
            "__________________________________________________________________________________________________\n",
            "conv2d_55 (Conv2D)              (None, 256, 256, 16) 4624        concatenate_12[0][0]             \n",
            "__________________________________________________________________________________________________\n",
            "dropout_27 (Dropout)            (None, 256, 256, 16) 0           conv2d_55[0][0]                  \n",
            "__________________________________________________________________________________________________\n",
            "conv2d_56 (Conv2D)              (None, 256, 256, 16) 2320        dropout_27[0][0]                 \n",
            "__________________________________________________________________________________________________\n",
            "conv2d_57 (Conv2D)              (None, 256, 256, 3)  51          conv2d_56[0][0]                  \n",
            "==================================================================================================\n",
            "Total params: 1,941,139\n",
            "Trainable params: 1,941,139\n",
            "Non-trainable params: 0\n",
            "__________________________________________________________________________________________________\n"
          ]
        }
      ]
    },
    {
      "cell_type": "code",
      "source": [
        "history=model.fit(x_train, \n",
        "          y_train,\n",
        "          batch_size=2, \n",
        "          epochs=10,\n",
        "          verbose=1,\n",
        "          validation_data=(x_val, y_val))"
      ],
      "metadata": {
        "id": "ROPywo2b8Esr",
        "colab": {
          "base_uri": "https://localhost:8080/"
        },
        "outputId": "05bbe779-8d0f-4389-da7b-fc894ebeb532"
      },
      "execution_count": null,
      "outputs": [
        {
          "output_type": "stream",
          "name": "stdout",
          "text": [
            "Train on 120 samples, validate on 30 samples\n",
            "Epoch 1/10\n",
            "120/120 [==============================] - 115s 956ms/step - loss: 1.0163 - accuracy: 0.1790 - val_loss: 0.3728 - val_accuracy: 0.0058\n",
            "Epoch 2/10\n",
            "120/120 [==============================] - 97s 811ms/step - loss: 0.2506 - accuracy: 0.0041 - val_loss: -0.1081 - val_accuracy: 7.7515e-04\n",
            "Epoch 3/10\n",
            "120/120 [==============================] - 94s 781ms/step - loss: -1.4897 - accuracy: 9.1298e-04 - val_loss: -3.7002 - val_accuracy: 0.0023\n",
            "Epoch 4/10\n",
            "120/120 [==============================] - 94s 782ms/step - loss: 52.2540 - accuracy: 0.0050 - val_loss: -1.8039 - val_accuracy: 0.0131\n",
            "Epoch 5/10\n",
            "120/120 [==============================] - 94s 779ms/step - loss: 3.3687 - accuracy: 0.0056 - val_loss: -2.1784 - val_accuracy: 4.4878e-04\n",
            "Epoch 6/10\n",
            "120/120 [==============================] - 94s 784ms/step - loss: -5.2623 - accuracy: 0.0017 - val_loss: -4.2633 - val_accuracy: 2.4685e-04\n",
            "Epoch 7/10\n",
            "120/120 [==============================] - 98s 816ms/step - loss: -2.8139 - accuracy: 0.0015 - val_loss: -0.6122 - val_accuracy: 0.0015\n",
            "Epoch 8/10\n",
            "120/120 [==============================] - 95s 791ms/step - loss: -2.2851 - accuracy: 0.0015 - val_loss: -0.1762 - val_accuracy: 9.8165e-05\n",
            "Epoch 9/10\n",
            "120/120 [==============================] - 94s 786ms/step - loss: -11.2781 - accuracy: 1.1660e-04 - val_loss: 7.8782 - val_accuracy: 7.1547e-05\n",
            "Epoch 10/10\n",
            "120/120 [==============================] - 94s 780ms/step - loss: 2405.2427 - accuracy: 0.0011 - val_loss: -0.9574 - val_accuracy: 0.0021\n"
          ]
        }
      ]
    },
    {
      "cell_type": "code",
      "source": [
        "#accuracy = model.evaluate(x_val, y_val)\n",
        "#plot the training and validation accuracy and loss at each epoch\n",
        "loss = history.history['loss']\n",
        "val_loss = history.history['val_loss']\n",
        "epochs = range(1, len(loss) + 1)\n",
        "plt.plot(epochs, loss, 'y', label='Training loss')\n",
        "plt.plot(epochs, val_loss, 'r', label='Validation loss')\n",
        "plt.title('Training and validation loss')\n",
        "plt.xlabel('Epochs')\n",
        "plt.ylabel('Loss')\n",
        "plt.legend()\n",
        "plt.show()"
      ],
      "metadata": {
        "id": "MMLzAKrtNlm_",
        "colab": {
          "base_uri": "https://localhost:8080/",
          "height": 295
        },
        "outputId": "09df9f27-950a-44f7-89b3-175a2394f173"
      },
      "execution_count": null,
      "outputs": [
        {
          "output_type": "display_data",
          "data": {
            "text/plain": [
              "<Figure size 432x288 with 1 Axes>"
            ],
            "image/png": "[encoded data removed]"
          },
          "metadata": {
            "needs_background": "light"
          }
        }
      ]
    },
    {
      "cell_type": "code",
      "source": [
        "model.save('/content/drive/MyDrive/INBREAST/INBREAST_UNET.h5')"
      ],
      "metadata": {
        "id": "L6AjRe_oEeeR"
      },
      "execution_count": null,
      "outputs": []
    },
    {
      "cell_type": "code",
      "source": [
        "from tensorflow import keras\n",
        "model = keras.models.load_model('/content/drive/MyDrive/INBREAST/INBREAST_UNET.h5', compile=False)\n",
        "#Test on a different image\n",
        "#READ EXTERNAL IMAGE...\n",
        "test_img = cv2.imread('/content/drive/MyDrive/INBREAST/ALL_IMAGES/20588562.jpg', cv2.IMREAD_COLOR)       \n",
        "test_img = cv2.resize(test_img, (SIZE_Y, SIZE_X))\n",
        "test_img = cv2.cvtColor(test_img, cv2.COLOR_RGB2BGR)\n",
        "test_img = np.expand_dims(test_img, axis=0)\n",
        "\n",
        "prediction = model.predict(test_img)"
      ],
      "metadata": {
        "id": "n9-A6MW-Eg17"
      },
      "execution_count": null,
      "outputs": []
    },
    {
      "cell_type": "code",
      "source": [
        "#View and Save segmented image\n",
        "prediction_image = prediction.reshape(mask.shape)\n",
        "plt.imshow(prediction_image, cmap='gray')"
      ],
      "metadata": {
        "colab": {
          "base_uri": "https://localhost:8080/",
          "height": 286
        },
        "id": "Qmu7lEJVEkGk",
        "outputId": "a5684b8e-a47f-4726-cbf8-d8f4fce85e57"
      },
      "execution_count": null,
      "outputs": [
        {
          "output_type": "execute_result",
          "data": {
            "text/plain": [
              "<matplotlib.image.AxesImage at 0x7fd9140822d0>"
            ]
          },
          "metadata": {},
          "execution_count": 56
        },
        {
          "output_type": "display_data",
          "data": {
            "text/plain": [
              "<Figure size 432x288 with 1 Axes>"
            ],
            "image/png": "[encoded data removed]"
          },
          "metadata": {
            "needs_background": "light"
          }
        }
      ]
    },
    {
      "cell_type": "code",
      "source": [
        ""
      ],
      "metadata": {
        "id": "l2IPlgPXFHkX"
      },
      "execution_count": null,
      "outputs": []
    }
  ]
}