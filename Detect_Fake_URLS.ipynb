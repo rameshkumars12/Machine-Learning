{
 "cells": [
  {
   "cell_type": "markdown",
   "id": "6b64a768",
   "metadata": {},
   "source": [
    "## **Importing Libraries**"
   ]
  },
  {
   "cell_type": "code",
   "execution_count": 1,
   "id": "a380e2ef",
   "metadata": {},
   "outputs": [],
   "source": [
    "import pandas as pd\n",
    "import numpy as np\n",
    "import random \n",
    "from sklearn.model_selection import train_test_split\n",
    "from sklearn.metrics import accuracy_score\n",
    "from sklearn.feature_extraction.text import TfidfVectorizer\n",
    "\n",
    "from sklearn.linear_model import LogisticRegression\n",
    "from sklearn.tree import DecisionTreeClassifier\n",
    "from sklearn.ensemble import RandomForestClassifier\n",
    "from sklearn.svm import SVC"
   ]
  },
  {
   "cell_type": "markdown",
   "id": "5757dbf5",
   "metadata": {},
   "source": [
    "### Exploratory Data Analysis"
   ]
  },
  {
   "cell_type": "code",
   "execution_count": 2,
   "id": "af2c15d5",
   "metadata": {},
   "outputs": [
    {
     "data": {
      "text/html": [
       "<div>\n",
       "<style scoped>\n",
       "    .dataframe tbody tr th:only-of-type {\n",
       "        vertical-align: middle;\n",
       "    }\n",
       "\n",
       "    .dataframe tbody tr th {\n",
       "        vertical-align: top;\n",
       "    }\n",
       "\n",
       "    .dataframe thead th {\n",
       "        text-align: right;\n",
       "    }\n",
       "</style>\n",
       "<table border=\"1\" class=\"dataframe\">\n",
       "  <thead>\n",
       "    <tr style=\"text-align: right;\">\n",
       "      <th></th>\n",
       "      <th>urls</th>\n",
       "      <th>labels</th>\n",
       "    </tr>\n",
       "  </thead>\n",
       "  <tbody>\n",
       "    <tr>\n",
       "      <th>0</th>\n",
       "      <td>chouftv.ma</td>\n",
       "      <td>0</td>\n",
       "    </tr>\n",
       "    <tr>\n",
       "      <th>1</th>\n",
       "      <td>india.com</td>\n",
       "      <td>0</td>\n",
       "    </tr>\n",
       "    <tr>\n",
       "      <th>2</th>\n",
       "      <td>google.cl</td>\n",
       "      <td>0</td>\n",
       "    </tr>\n",
       "    <tr>\n",
       "      <th>3</th>\n",
       "      <td>merdeka.com</td>\n",
       "      <td>0</td>\n",
       "    </tr>\n",
       "    <tr>\n",
       "      <th>4</th>\n",
       "      <td>yandex.com.tr</td>\n",
       "      <td>0</td>\n",
       "    </tr>\n",
       "  </tbody>\n",
       "</table>\n",
       "</div>"
      ],
      "text/plain": [
       "            urls  labels\n",
       "0     chouftv.ma       0\n",
       "1      india.com       0\n",
       "2      google.cl       0\n",
       "3    merdeka.com       0\n",
       "4  yandex.com.tr       0"
      ]
     },
     "execution_count": 2,
     "metadata": {},
     "output_type": "execute_result"
    }
   ],
   "source": [
    "df = pd.read_csv(\"valid&fake_urls.csv\")\n",
    "df.head()"
   ]
  },
  {
   "cell_type": "code",
   "execution_count": 3,
   "id": "5b1efc71",
   "metadata": {},
   "outputs": [
    {
     "data": {
      "text/plain": [
       "(2000, 2)"
      ]
     },
     "execution_count": 3,
     "metadata": {},
     "output_type": "execute_result"
    }
   ],
   "source": [
    "df.shape"
   ]
  },
  {
   "cell_type": "code",
   "execution_count": 4,
   "id": "777934d0",
   "metadata": {},
   "outputs": [
    {
     "name": "stdout",
     "output_type": "stream",
     "text": [
      "<class 'pandas.core.frame.DataFrame'>\n",
      "RangeIndex: 2000 entries, 0 to 1999\n",
      "Data columns (total 2 columns):\n",
      " #   Column  Non-Null Count  Dtype \n",
      "---  ------  --------------  ----- \n",
      " 0   urls    2000 non-null   object\n",
      " 1   labels  2000 non-null   int64 \n",
      "dtypes: int64(1), object(1)\n",
      "memory usage: 31.4+ KB\n"
     ]
    }
   ],
   "source": [
    "df.info()"
   ]
  },
  {
   "cell_type": "code",
   "execution_count": 5,
   "id": "743024e5",
   "metadata": {},
   "outputs": [
    {
     "data": {
      "text/plain": [
       "0    1000\n",
       "1    1000\n",
       "Name: labels, dtype: int64"
      ]
     },
     "execution_count": 5,
     "metadata": {},
     "output_type": "execute_result"
    }
   ],
   "source": [
    "df[\"labels\"].value_counts()"
   ]
  },
  {
   "cell_type": "markdown",
   "id": "ada92f68",
   "metadata": {},
   "source": [
    "0 ===> not a fake site\n",
    "\n",
    "1 ===> fake site"
   ]
  },
  {
   "cell_type": "markdown",
   "id": "623a09b7",
   "metadata": {},
   "source": [
    "#### Shuffling the Dataset"
   ]
  },
  {
   "cell_type": "code",
   "execution_count": 6,
   "id": "82781cea",
   "metadata": {},
   "outputs": [
    {
     "data": {
      "text/html": [
       "<div>\n",
       "<style scoped>\n",
       "    .dataframe tbody tr th:only-of-type {\n",
       "        vertical-align: middle;\n",
       "    }\n",
       "\n",
       "    .dataframe tbody tr th {\n",
       "        vertical-align: top;\n",
       "    }\n",
       "\n",
       "    .dataframe thead th {\n",
       "        text-align: right;\n",
       "    }\n",
       "</style>\n",
       "<table border=\"1\" class=\"dataframe\">\n",
       "  <thead>\n",
       "    <tr style=\"text-align: right;\">\n",
       "      <th></th>\n",
       "      <th>urls</th>\n",
       "      <th>labels</th>\n",
       "    </tr>\n",
       "  </thead>\n",
       "  <tbody>\n",
       "    <tr>\n",
       "      <th>0</th>\n",
       "      <td>couriermailpost.com</td>\n",
       "      <td>1</td>\n",
       "    </tr>\n",
       "    <tr>\n",
       "      <th>1</th>\n",
       "      <td>teacuppuppyfamily.com</td>\n",
       "      <td>1</td>\n",
       "    </tr>\n",
       "    <tr>\n",
       "      <th>2</th>\n",
       "      <td>eibae.net</td>\n",
       "      <td>1</td>\n",
       "    </tr>\n",
       "    <tr>\n",
       "      <th>3</th>\n",
       "      <td>kingpethouse.com</td>\n",
       "      <td>1</td>\n",
       "    </tr>\n",
       "    <tr>\n",
       "      <th>4</th>\n",
       "      <td>apexinvestbank.com</td>\n",
       "      <td>1</td>\n",
       "    </tr>\n",
       "  </tbody>\n",
       "</table>\n",
       "</div>"
      ],
      "text/plain": [
       "                    urls  labels\n",
       "0    couriermailpost.com       1\n",
       "1  teacuppuppyfamily.com       1\n",
       "2              eibae.net       1\n",
       "3       kingpethouse.com       1\n",
       "4     apexinvestbank.com       1"
      ]
     },
     "execution_count": 6,
     "metadata": {},
     "output_type": "execute_result"
    }
   ],
   "source": [
    "df = df.sample(frac=1).reset_index(drop=True)\n",
    "df.head()"
   ]
  },
  {
   "cell_type": "markdown",
   "id": "9f279ca9",
   "metadata": {},
   "source": [
    "### Data Vectorization using TfidfVectorizer"
   ]
  },
  {
   "cell_type": "code",
   "execution_count": 7,
   "id": "fb464141",
   "metadata": {},
   "outputs": [],
   "source": [
    "def customtkns(t):\n",
    "    tkns_byslash = str(t.encode(\"utf-8\")).split(\"/\")\n",
    "    total_tokens = []\n",
    "    for i in tkns_byslash:\n",
    "        tokens = str(i).split(\"-\")\n",
    "        tkns_bydot = []\n",
    "        for j in range(0,len(tokens)):\n",
    "            temp_tkns = str(tokens[j]).split(\".\")\n",
    "            tkns_bydot = tkns_bydot + temp_tkns\n",
    "        total_tokens = total_tokens + tokens + tkns_bydot\n",
    "    total_tokens = list(set(total_tokens))\n",
    "    if \"com\" in total_tokens:\n",
    "        total_tokens.remove(\"com\")\n",
    "    return total_tokens"
   ]
  },
  {
   "cell_type": "markdown",
   "id": "4cca64c1",
   "metadata": {},
   "source": [
    "### Vectorizing the urls"
   ]
  },
  {
   "cell_type": "code",
   "execution_count": 8,
   "id": "f262385a",
   "metadata": {},
   "outputs": [],
   "source": [
    "df = np.array(df)\n",
    "random.shuffle(df)"
   ]
  },
  {
   "cell_type": "code",
   "execution_count": 9,
   "id": "f6653379",
   "metadata": {},
   "outputs": [],
   "source": [
    "x = [d[0] for d in df]\n",
    "y = [d[1] for d in df]"
   ]
  },
  {
   "cell_type": "code",
   "execution_count": 10,
   "id": "289c0825",
   "metadata": {},
   "outputs": [],
   "source": [
    "#x = df[\"urls\"]\n",
    "#y = df[\"labels\"]"
   ]
  },
  {
   "cell_type": "code",
   "execution_count": 11,
   "id": "4246be22",
   "metadata": {},
   "outputs": [],
   "source": [
    "vectorizer = TfidfVectorizer(tokenizer=customtkns)"
   ]
  },
  {
   "cell_type": "code",
   "execution_count": 12,
   "id": "e2724f15",
   "metadata": {},
   "outputs": [],
   "source": [
    "X = vectorizer.fit_transform(x)"
   ]
  },
  {
   "cell_type": "code",
   "execution_count": 38,
   "id": "e927e47c",
   "metadata": {},
   "outputs": [],
   "source": [
    "xtrain, xtest,ytrain,ytest = train_test_split(X,y,stratify=y,test_size = 33, random_state=1)"
   ]
  },
  {
   "cell_type": "markdown",
   "id": "3ffbc7ae",
   "metadata": {},
   "source": [
    "### LogisticRegression"
   ]
  },
  {
   "cell_type": "code",
   "execution_count": 39,
   "id": "2768d019",
   "metadata": {},
   "outputs": [],
   "source": [
    "log = LogisticRegression()\n",
    "dt = DecisionTreeClassifier()\n",
    "rf = RandomForestClassifier()\n",
    "svm = SVC(kernel='rbf', C=100)"
   ]
  },
  {
   "cell_type": "markdown",
   "id": "383873a2",
   "metadata": {},
   "source": [
    "##### Train Accuracy"
   ]
  },
  {
   "cell_type": "code",
   "execution_count": 40,
   "id": "2db1652b",
   "metadata": {},
   "outputs": [
    {
     "name": "stdout",
     "output_type": "stream",
     "text": [
      "LogisticRegression Train Data Accuracy Score:  0.9989832231825114\n",
      "DecisionTreeClassifier Train Data Accuracy Score:  1.0\n",
      "RandomForestClassifier Train Data Accuracy Score:  1.0\n",
      "SupportVectorClassifier Train Data Accuracy Score:  1.0\n"
     ]
    }
   ],
   "source": [
    "def modeltrain(model,name):\n",
    "    model.fit(xtrain, ytrain)\n",
    "    xtrain_predict = model.predict(xtrain)\n",
    "    train_accuracy = accuracy_score(xtrain_predict,ytrain)\n",
    "    print(name,\"Train Data Accuracy Score: \",train_accuracy)\n",
    "modeltrain(log,\"LogisticRegression\")\n",
    "modeltrain(dt,\"DecisionTreeClassifier\")\n",
    "modeltrain(rf,\"RandomForestClassifier\")\n",
    "modeltrain(svm,\"SupportVectorClassifier\")"
   ]
  },
  {
   "cell_type": "markdown",
   "id": "19edc014",
   "metadata": {},
   "source": [
    "##### Test Accuracy"
   ]
  },
  {
   "cell_type": "code",
   "execution_count": 41,
   "id": "543465d5",
   "metadata": {},
   "outputs": [
    {
     "name": "stdout",
     "output_type": "stream",
     "text": [
      "LogisticRegression Test Data Accuracy Score:  1.0\n",
      "DecisionTreeClassifier Test Data Accuracy Score:  0.9696969696969697\n",
      "RandomForestClassifier Test Data Accuracy Score:  1.0\n",
      "SupportVectorClassifier Test Data Accuracy Score:  0.9696969696969697\n"
     ]
    }
   ],
   "source": [
    "def modeltest(model,name):\n",
    "    xtest_predict = model.predict(xtest)\n",
    "    test_accuracy = accuracy_score(xtest_predict,ytest)\n",
    "    print(name,\"Test Data Accuracy Score: \",test_accuracy)\n",
    "modeltest(log,\"LogisticRegression\")\n",
    "modeltest(dt,\"DecisionTreeClassifier\")\n",
    "modeltest(rf,\"RandomForestClassifier\")\n",
    "modeltest(svm,\"SupportVectorClassifier\")"
   ]
  },
  {
   "cell_type": "markdown",
   "id": "3ce75be9",
   "metadata": {},
   "source": [
    "### Model_Deployment"
   ]
  },
  {
   "cell_type": "code",
   "execution_count": 42,
   "id": "1ca1b7b9",
   "metadata": {},
   "outputs": [],
   "source": [
    "link = [\"javatpoint.com/\",\"https://github.com/\",\"https://www.axiomtrustcitybank.com\",\"http://www.melofrenchbulldog.com\",\"https://www.ngi-sdnbhd.com\",\"https://www.programiz.com/\"]"
   ]
  },
  {
   "cell_type": "code",
   "execution_count": 43,
   "id": "1448e3a0",
   "metadata": {},
   "outputs": [
    {
     "name": "stdout",
     "output_type": "stream",
     "text": [
      "[0 1 1 1 1 1]\n"
     ]
    }
   ],
   "source": [
    "link = np.array(link)\n",
    "X_predict1 = vectorizer.transform(link)\n",
    "xp = dt.predict(X_predict1)\n",
    "print(xp)"
   ]
  },
  {
   "cell_type": "code",
   "execution_count": 19,
   "id": "ee005ef5",
   "metadata": {},
   "outputs": [
    {
     "ename": "SyntaxError",
     "evalue": "'return' outside function (<ipython-input-19-ce32d81298bf>, line 6)",
     "output_type": "error",
     "traceback": [
      "\u001b[1;36m  File \u001b[1;32m\"<ipython-input-19-ce32d81298bf>\"\u001b[1;36m, line \u001b[1;32m6\u001b[0m\n\u001b[1;33m    return f'{url}: The url is a Legit Site'\u001b[0m\n\u001b[1;37m    ^\u001b[0m\n\u001b[1;31mSyntaxError\u001b[0m\u001b[1;31m:\u001b[0m 'return' outside function\n"
     ]
    }
   ],
   "source": [
    "#Predict Model\n",
    "Predict_url = np.array(link)\n",
    "Predict_url = vectorizer.transform(Predict_url)\n",
    "value = dt.predict(Predict_url)\n",
    "if value == [0]:\n",
    "    return f'{url}: The url is a Legit Site'\n",
    "elif value == [1]:\n",
    "    return f'{url}: The url is a Fake Site'\n",
    "else:\n",
    "    return \"Enter a valid url\"\n",
    "    \n",
    "urls = [input(str(\"Enter a url:\" ))]\n"
   ]
  },
  {
   "cell_type": "code",
   "execution_count": null,
   "id": "9fd1682c",
   "metadata": {},
   "outputs": [],
   "source": [
    "    link = np.array(url)\n",
    "    X_predict = vectorizer.transform(link)\n",
    "    value = dt.predict(X_predict1)\n",
    "    if value == [0]:\n",
    "        return f'{url}: The url is a Legit Site'\n",
    "    elif value == [1]:\n",
    "        return f'{url}: The url is a Fake Site'\n",
    "    else:\n",
    "        return \"Enter a valid url\"\n",
    "\n",
    "get_url = [input(str(\"Enter a url:\" ))]\n",
    "\n",
    "FakeSiteDetection(get_urls)"
   ]
  },
  {
   "cell_type": "code",
   "execution_count": null,
   "id": "30132c3c",
   "metadata": {},
   "outputs": [],
   "source": []
  },
  {
   "cell_type": "code",
   "execution_count": null,
   "id": "0fd7e017",
   "metadata": {},
   "outputs": [],
   "source": []
  },
  {
   "cell_type": "code",
   "execution_count": null,
   "id": "faa40988",
   "metadata": {},
   "outputs": [],
   "source": []
  }
 ],
 "metadata": {
  "kernelspec": {
   "display_name": "Python 3",
   "language": "python",
   "name": "python3"
  },
  "language_info": {
   "codemirror_mode": {
    "name": "ipython",
    "version": 3
   },
   "file_extension": ".py",
   "mimetype": "text/x-python",
   "name": "python",
   "nbconvert_exporter": "python",
   "pygments_lexer": "ipython3",
   "version": "3.8.8"
  }
 },
 "nbformat": 4,
 "nbformat_minor": 5
}
